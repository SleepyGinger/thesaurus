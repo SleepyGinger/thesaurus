{
 "cells": [
  {
   "cell_type": "code",
   "execution_count": 2,
   "metadata": {},
   "outputs": [],
   "source": [
    "import requests\n",
    "from bs4 import BeautifulSoup\n",
    "import time\n",
    "from IPython.display import clear_output\n",
    "\n",
    "from nltk.stem import PorterStemmer \n",
    "from nltk.tokenize import word_tokenize \n",
    "\n",
    "from collections import OrderedDict\n",
    "\n",
    "ps = PorterStemmer()\n",
    "\n",
    "def loop_it(word_list):\n",
    "    word_dict={}\n",
    "    for word in word_list:\n",
    "        clear_output(wait=True)\n",
    "        new_entry = grab_synonym(word)\n",
    "        word_dict = {**word_dict,**new_entry}\n",
    "        print(word_dict.keys())\n",
    "        print(word_dict[word])\n",
    "        time.sleep(10)\n",
    "    return words_and_syn\n",
    "\n",
    "def clean_it_up(word_list):\n",
    "    return [x.lower().strip() for x in word_list]\n",
    "\n",
    "def compare_words(word_dict, *normal):\n",
    "    if normal:\n",
    "        new_dict={}\n",
    "        for root in word_dict:\n",
    "            new={root:[]}\n",
    "            for syn in word_dict[root]:\n",
    "                if syn in word_dict.keys():\n",
    "                    new[root].append(syn)\n",
    "                    new_dict = {**new_dict, **new}\n",
    "                else:\n",
    "                    new_dict = {**new_dict, **new}\n",
    "    else:\n",
    "        #stems words outputs normal ones\n",
    "        new_dict={}\n",
    "        for root in word_dict:\n",
    "            new={root:[]}\n",
    "            for syn in word_dict[root]:\n",
    "                if ps.stem(syn) in (ps.stem(x) for x in word_dict.keys()):\n",
    "                    new[root].append(syn)\n",
    "                    new_dict = {**new_dict, **new}\n",
    "                else:\n",
    "                    new_dict = {**new_dict, **new}\n",
    "    return new_dict"
   ]
  },
  {
   "cell_type": "code",
   "execution_count": 144,
   "metadata": {},
   "outputs": [],
   "source": [
    "class Thesaurus_call():\n",
    "    \n",
    "    \n",
    "    def __init__(self, word):\n",
    "        self.word = word\n",
    "\n",
    "    def webster_com(self):\n",
    "        response = requests.get(f\"https://www.merriam-webster.com/dictionary/{self.word}\")\n",
    "        soup = BeautifulSoup(response.content, 'html.parser')\n",
    "        synonyms = soup.find('ul', {\"class\": \"mw-list\"}).text\n",
    "        return synonyms.split(', ')\n",
    "    \n",
    "    def thesaurus_com(self):\n",
    "        response = requests.get(f\"https://www.thesaurus.com/browse/{self.word}\")\n",
    "        soup = BeautifulSoup(response.content, 'html.parser')\n",
    "\n",
    "        synonyms = soup.select('#root > div > div > div.base-page-wrapper.css-10foxbh-PageWrapper.eavft171 > main > section > section > div:nth-child(2) > ul > li')\n",
    "\n",
    "        syn_list = []\n",
    "\n",
    "        for synonym in synonyms:\n",
    "            syn_list.append(synonym.text)\n",
    "        return syn_list\n",
    "\n",
    "def get_synonyms(word):\n",
    "    return {word:Thesaurus_call(word).thesaurus_com()+Thesaurus_call(word).webster_com()}"
   ]
  },
  {
   "cell_type": "code",
   "execution_count": 148,
   "metadata": {},
   "outputs": [],
   "source": [
    "response = requests.get(f\"https://www.merriam-webster.com/dictionary/calm\")\n",
    "soup = BeautifulSoup(response.content, 'html.parser')"
   ]
  },
  {
   "cell_type": "code",
   "execution_count": 257,
   "metadata": {},
   "outputs": [],
   "source": [
    "aa=soup.find(id='synonyms-anchor')"
   ]
  },
  {
   "cell_type": "code",
   "execution_count": 239,
   "metadata": {},
   "outputs": [],
   "source": [
    "bb=aa.select('p', {\"class\":\"function-label\"})"
   ]
  },
  {
   "cell_type": "code",
   "execution_count": 281,
   "metadata": {},
   "outputs": [],
   "source": [
    "cc=soup.find('p', {\"class\":\"function-label\"})"
   ]
  },
  {
   "cell_type": "code",
   "execution_count": null,
   "metadata": {},
   "outputs": [],
   "source": [
    "def has_class_but_no_id(tag):\n",
    "    return tag.has_attr('p', {\"class\":\"function-label\"}) and not tag.has_attr('id')"
   ]
  },
  {
   "cell_type": "code",
   "execution_count": 287,
   "metadata": {},
   "outputs": [
    {
     "data": {
      "text/plain": [
       "['\\n            Synonyms & Antonyms        ',\n",
       " 'Synonyms & Antonyms for ',\n",
       " 'Synonyms: Noun ',\n",
       " 'Synonyms: Verb ',\n",
       " 'Synonyms: Adjective ',\n",
       " 'window.mwHeapEvents[\\'Definition - Has Synonyms\\']=\"true\";']"
      ]
     },
     "execution_count": 287,
     "metadata": {},
     "output_type": "execute_result"
    }
   ],
   "source": [
    "import re\n",
    "\n",
    "soup.find_all(string=re.compile(\"Synonyms\"))"
   ]
  },
  {
   "cell_type": "code",
   "execution_count": null,
   "metadata": {},
   "outputs": [],
   "source": [
    "'https://www.crummy.com/software/BeautifulSoup/bs4/doc/'"
   ]
  },
  {
   "cell_type": "code",
   "execution_count": 270,
   "metadata": {},
   "outputs": [],
   "source": [
    "for x in aa.next_siblings:\n",
    "    if 'synonym' in x:\n",
    "        print(x)"
   ]
  },
  {
   "cell_type": "code",
   "execution_count": 227,
   "metadata": {},
   "outputs": [
    {
     "data": {
      "text/plain": [
       "True"
      ]
     },
     "execution_count": 227,
     "metadata": {},
     "output_type": "execute_result"
    }
   ],
   "source": [
    "'Synonyms' in bb[0].text"
   ]
  },
  {
   "cell_type": "code",
   "execution_count": 228,
   "metadata": {},
   "outputs": [
    {
     "data": {
      "text/plain": [
       "[<ul class=\"mw-list\"><li><a href=\"/dictionary/halcyon\">halcyon</a>, <li><a href=\"/dictionary/hushed\">hushed</a>, <li><a href=\"/dictionary/lown\">lown</a><li>\n",
       "             [<span class=\"wsls\">dialect</span>], <li><a href=\"/dictionary/peaceful\">peaceful</a>, <li><a href=\"/dictionary/placid\">placid</a>, <li><a href=\"/dictionary/quiet\">quiet</a>, <li><a href=\"/dictionary/serene\">serene</a>, <li><a href=\"/dictionary/still\">still</a>, <li><a href=\"/dictionary/stilly\">stilly</a>, <li><a href=\"/dictionary/tranquil\">tranquil</a>, <li><a class=\"syn-last\" href=\"/dictionary/untroubled\">untroubled</a></li></li></li></li></li></li></li></li></li></li></li></li></ul>,\n",
       " <ul class=\"mw-list\"><li><a href=\"/dictionary/bustle\">bustle</a>, <li><a href=\"/dictionary/commotion\">commotion</a>, <li><a href=\"/dictionary/hubbub\">hubbub</a>, <li><a href=\"/dictionary/hurly-burly\">hurly-burly</a>, <li><a href=\"/dictionary/pandemonium\">pandemonium</a>, <li><a href=\"/dictionary/tumult\">tumult</a>, <li><a href=\"/dictionary/turmoil\">turmoil</a>, <li><a href=\"/dictionary/unquietness\">unquietness</a>, <li><a href=\"/dictionary/unrest\">unrest</a>, <li><a class=\"syn-last\" href=\"/dictionary/uproar\">uproar</a></li></li></li></li></li></li></li></li></li></li></ul>,\n",
       " <ul class=\"mw-list\"><li><a href=\"/dictionary/agitate\">agitate</a>, <li><a href=\"/dictionary/discompose\">discompose</a>, <li><a href=\"/dictionary/disquiet\">disquiet</a>, <li><a href=\"/dictionary/disturb\">disturb</a>, <li><a href=\"/dictionary/key%20%28up%29\">key (up)</a>, <li><a href=\"/dictionary/perturb\">perturb</a>, <li><a href=\"/dictionary/upset\">upset</a>, <li><a class=\"syn-last\" href=\"/dictionary/vex\">vex</a></li></li></li></li></li></li></li></li></ul>,\n",
       " <ul class=\"mw-list\"><li><a href=\"/dictionary/agitated\">agitated</a>, <li><a href=\"/dictionary/angry\">angry</a>, <li><a href=\"/dictionary/inclement\">inclement</a>, <li><a href=\"/dictionary/restless\">restless</a>, <li><a href=\"/dictionary/rough\">rough</a>, <li><a href=\"/dictionary/stormy\">stormy</a>, <li><a href=\"/dictionary/tempestuous\">tempestuous</a>, <li><a href=\"/dictionary/turbulent\">turbulent</a>, <li><a href=\"/dictionary/unquiet\">unquiet</a>, <li><a class=\"syn-last\" href=\"/dictionary/unsettled\">unsettled</a></li></li></li></li></li></li></li></li></li></li></ul>]"
      ]
     },
     "execution_count": 228,
     "metadata": {},
     "output_type": "execute_result"
    }
   ],
   "source": [
    "bb[2].select('ul', {'class':'mw-list'})"
   ]
  },
  {
   "cell_type": "code",
   "execution_count": 220,
   "metadata": {},
   "outputs": [
    {
     "data": {
      "text/plain": [
       "<p class=\"function-label\">Synonyms: Noun <ul class=\"mw-list\"><li><a href=\"/dictionary/calmness\">calmness</a>, <li><a href=\"/dictionary/hush\">hush</a>, <li><a href=\"/dictionary/peace\">peace</a>, <li><a href=\"/dictionary/peacefulness\">peacefulness</a>, <li><a href=\"/dictionary/placidity\">placidity</a>, <li><a href=\"/dictionary/quiet\">quiet</a>, <li><a href=\"/dictionary/quietness\">quietness</a>, <li><a href=\"/dictionary/quietude\">quietude</a>, <li><a href=\"/dictionary/repose\">repose</a>, <li><a href=\"/dictionary/restfulness\">restfulness</a>, <li><a href=\"/dictionary/sereneness\">sereneness</a>, <li><a href=\"/dictionary/serenity\">serenity</a>, <li><a href=\"/dictionary/still\">still</a>, <li><a href=\"/dictionary/stillness\">stillness</a>, <li><a class=\"syn-last\" href=\"/dictionary/tranquillity\">tranquillity</a><li><span class=\"wvrs\"> (<span class=\"wvl\">or</span> <span class=\"wva\"><a href=\"/dictionary/tranquility\">tranquility</a></span>)</span></li></li></li></li></li></li></li></li></li></li></li></li></li></li></li></li></ul> <p class=\"function-label\">Synonyms: Verb <ul class=\"mw-list\"><li><a href=\"/dictionary/becalm\">becalm</a>, <li><a href=\"/dictionary/compose\">compose</a>, <li><a href=\"/dictionary/lull\">lull</a>, <li><a href=\"/dictionary/lullaby\">lullaby</a>, <li><a href=\"/dictionary/quiet\">quiet</a>, <li><a href=\"/dictionary/quieten\">quieten</a><li>\n",
       "            [<span class=\"wsls\">chiefly British</span>], <li><a href=\"/dictionary/salve\">salve</a>, <li><a href=\"/dictionary/settle\">settle</a>, <li><a href=\"/dictionary/soothe\">soothe</a>, <li><a href=\"/dictionary/still\">still</a>, <li><a class=\"syn-last\" href=\"/dictionary/tranquilize\">tranquilize</a><li><span class=\"wvrs\"> (<span class=\"wvl\">also</span> <span class=\"wva\"><a href=\"/dictionary/tranquillize\">tranquillize</a></span>)</span></li></li></li></li></li></li></li></li></li></li></li></li></li></ul> <p class=\"function-label\">Synonyms: Adjective <ul class=\"mw-list\"><li><a href=\"/dictionary/halcyon\">halcyon</a>, <li><a href=\"/dictionary/hushed\">hushed</a>, <li><a href=\"/dictionary/lown\">lown</a><li>\n",
       "            [<span class=\"wsls\">dialect</span>], <li><a href=\"/dictionary/peaceful\">peaceful</a>, <li><a href=\"/dictionary/placid\">placid</a>, <li><a href=\"/dictionary/quiet\">quiet</a>, <li><a href=\"/dictionary/serene\">serene</a>, <li><a href=\"/dictionary/still\">still</a>, <li><a href=\"/dictionary/stilly\">stilly</a>, <li><a href=\"/dictionary/tranquil\">tranquil</a>, <li><a class=\"syn-last\" href=\"/dictionary/untroubled\">untroubled</a></li></li></li></li></li></li></li></li></li></li></li></li></ul> <p class=\"function-label\">Antonyms: Noun <ul class=\"mw-list\"><li><a href=\"/dictionary/bustle\">bustle</a>, <li><a href=\"/dictionary/commotion\">commotion</a>, <li><a href=\"/dictionary/hubbub\">hubbub</a>, <li><a href=\"/dictionary/hurly-burly\">hurly-burly</a>, <li><a href=\"/dictionary/pandemonium\">pandemonium</a>, <li><a href=\"/dictionary/tumult\">tumult</a>, <li><a href=\"/dictionary/turmoil\">turmoil</a>, <li><a href=\"/dictionary/unquietness\">unquietness</a>, <li><a href=\"/dictionary/unrest\">unrest</a>, <li><a class=\"syn-last\" href=\"/dictionary/uproar\">uproar</a></li></li></li></li></li></li></li></li></li></li></ul> <p class=\"function-label\">Antonyms: Verb <ul class=\"mw-list\"><li><a href=\"/dictionary/agitate\">agitate</a>, <li><a href=\"/dictionary/discompose\">discompose</a>, <li><a href=\"/dictionary/disquiet\">disquiet</a>, <li><a href=\"/dictionary/disturb\">disturb</a>, <li><a href=\"/dictionary/key%20%28up%29\">key (up)</a>, <li><a href=\"/dictionary/perturb\">perturb</a>, <li><a href=\"/dictionary/upset\">upset</a>, <li><a class=\"syn-last\" href=\"/dictionary/vex\">vex</a></li></li></li></li></li></li></li></li></ul> <p class=\"function-label\">Antonyms: Adjective <ul class=\"mw-list\"><li><a href=\"/dictionary/agitated\">agitated</a>, <li><a href=\"/dictionary/angry\">angry</a>, <li><a href=\"/dictionary/inclement\">inclement</a>, <li><a href=\"/dictionary/restless\">restless</a>, <li><a href=\"/dictionary/rough\">rough</a>, <li><a href=\"/dictionary/stormy\">stormy</a>, <li><a href=\"/dictionary/tempestuous\">tempestuous</a>, <li><a href=\"/dictionary/turbulent\">turbulent</a>, <li><a href=\"/dictionary/unquiet\">unquiet</a>, <li><a class=\"syn-last\" href=\"/dictionary/unsettled\">unsettled</a></li></li></li></li></li></li></li></li></li></li></ul> <a class=\"widget-button thesaurus\" href=\"/thesaurus/calm\">Visit the Thesaurus for More <img class=\"svg double-arrows\" src=\"https://merriam-webster.com/assets/mw/dist/compiled/images/svg/double-arrows-transparent.svg\"/></a></p></p></p></p></p></p>"
      ]
     },
     "execution_count": 220,
     "metadata": {},
     "output_type": "execute_result"
    }
   ],
   "source": [
    "bb[0]"
   ]
  },
  {
   "cell_type": "code",
   "execution_count": null,
   "metadata": {},
   "outputs": [],
   "source": [
    "get_synonyms('calm')"
   ]
  },
  {
   "cell_type": "code",
   "execution_count": null,
   "metadata": {},
   "outputs": [],
   "source": [
    "words_and_syn = loop_it(words_and_syn2)"
   ]
  },
  {
   "cell_type": "code",
   "execution_count": 363,
   "metadata": {},
   "outputs": [],
   "source": [
    "complete = compare_words(words_and_syn2)"
   ]
  },
  {
   "cell_type": "code",
   "execution_count": null,
   "metadata": {},
   "outputs": [],
   "source": [
    "response = requests.get(f\"https://www.thesaurus.com/browse/hub\")"
   ]
  },
  {
   "cell_type": "code",
   "execution_count": 66,
   "metadata": {},
   "outputs": [],
   "source": [
    "soup = BeautifulSoup(response.content, 'html.parser')\n",
    "\n",
    "synonyms = soup.select('#root > div > div > div.base-page-wrapper.css-10foxbh-PageWrapper.eavft171 > main > section > section > div:nth-child(2) > ul > li')\n",
    "\n",
    "syn_list = [synonym.text for synonym in synonyms]\n"
   ]
  },
  {
   "cell_type": "code",
   "execution_count": 95,
   "metadata": {},
   "outputs": [],
   "source": [
    "section = soup.select('h2[class*=\"WordGridSectionHeading\"]')"
   ]
  },
  {
   "cell_type": "code",
   "execution_count": 122,
   "metadata": {},
   "outputs": [
    {
     "data": {
      "text/plain": [
       "bs4.element.Tag"
      ]
     },
     "execution_count": 122,
     "metadata": {},
     "output_type": "execute_result"
    }
   ],
   "source": [
    "type(section[0])"
   ]
  },
  {
   "cell_type": "code",
   "execution_count": 114,
   "metadata": {},
   "outputs": [],
   "source": [
    "syns = soup.select('span[class*=\"WordGridItemBox\"]')"
   ]
  },
  {
   "cell_type": "code",
   "execution_count": 118,
   "metadata": {},
   "outputs": [
    {
     "data": {
      "text/plain": [
       "bs4.BeautifulSoup"
      ]
     },
     "execution_count": 118,
     "metadata": {},
     "output_type": "execute_result"
    }
   ],
   "source": [
    "soap"
   ]
  },
  {
   "cell_type": "code",
   "execution_count": 71,
   "metadata": {},
   "outputs": [
    {
     "data": {
      "text/plain": [
       "['nerve center',\n",
       " 'core',\n",
       " 'focus',\n",
       " 'heart',\n",
       " 'middle',\n",
       " 'pivot',\n",
       " 'polestar',\n",
       " 'seat',\n",
       " 'exterior',\n",
       " 'exteriority',\n",
       " 'outside',\n",
       " 'surface',\n",
       " 'capital',\n",
       " 'city',\n",
       " 'club',\n",
       " 'concourse',\n",
       " 'crossroads',\n",
       " 'focal point',\n",
       " 'focus',\n",
       " 'heart',\n",
       " 'hub',\n",
       " 'mall',\n",
       " 'market',\n",
       " 'marketplace',\n",
       " 'mart',\n",
       " 'meeting place',\n",
       " 'metropolis',\n",
       " 'nerve center',\n",
       " 'plaza',\n",
       " 'polestar',\n",
       " 'shopping center',\n",
       " 'social center',\n",
       " 'station',\n",
       " 'town',\n",
       " 'trading center',\n",
       " 'best part',\n",
       " 'center of attention',\n",
       " 'climax',\n",
       " 'focal point',\n",
       " 'heart',\n",
       " 'high point',\n",
       " 'high spot',\n",
       " 'hub',\n",
       " 'keynote',\n",
       " 'main event',\n",
       " 'main feature',\n",
       " 'nucleus',\n",
       " 'capital',\n",
       " 'city',\n",
       " 'club',\n",
       " 'concourse',\n",
       " 'crossroads',\n",
       " 'focal point',\n",
       " 'focus',\n",
       " 'heart',\n",
       " 'hub',\n",
       " 'mall',\n",
       " 'market',\n",
       " 'marketplace',\n",
       " 'mart',\n",
       " 'meeting place',\n",
       " 'metropolis',\n",
       " 'nerve center',\n",
       " 'plaza',\n",
       " 'polestar',\n",
       " 'shopping center',\n",
       " 'social center',\n",
       " 'station',\n",
       " 'town',\n",
       " 'trading center',\n",
       " 'center',\n",
       " 'crossing',\n",
       " 'hub',\n",
       " 'intersection',\n",
       " 'junction',\n",
       " \"bull's eye\",\n",
       " 'center',\n",
       " 'core',\n",
       " 'cynosure',\n",
       " 'focal point',\n",
       " 'headquarters',\n",
       " 'heart',\n",
       " 'hub',\n",
       " 'limelight',\n",
       " 'locus',\n",
       " 'meeting place',\n",
       " 'nerve center',\n",
       " 'point of convergence',\n",
       " 'polestar',\n",
       " 'seat',\n",
       " 'spotlight',\n",
       " 'target',\n",
       " \"bull's eye\",\n",
       " 'center',\n",
       " 'core',\n",
       " 'cynosure',\n",
       " 'focal point',\n",
       " 'headquarters',\n",
       " 'heart',\n",
       " 'hub',\n",
       " 'limelight',\n",
       " 'locus',\n",
       " 'meeting place',\n",
       " 'nerve center',\n",
       " 'point of convergence',\n",
       " 'polestar',\n",
       " 'seat',\n",
       " 'spotlight',\n",
       " 'target']"
      ]
     },
     "execution_count": 71,
     "metadata": {},
     "output_type": "execute_result"
    }
   ],
   "source": [
    "[syn.text for syn in syns]"
   ]
  },
  {
   "cell_type": "code",
   "execution_count": 10,
   "metadata": {},
   "outputs": [
    {
     "data": {
      "text/plain": [
       "<!DOCTYPE html>\n",
       "<html lang=\"en\"><head><meta content=\"ie=edge\" http-equiv=\"x-ua-compatible\"/> <meta content=\"unsafe-url\" name=\"referrer\"/> <meta content=\"178450008855735\" property=\"fb:app_id\"/> <meta content=\"width=device-width, initial-scale=1.0\" name=\"viewport\"/> <link crossorigin=\"\" href=\"https://www.google-analytics.com\" rel=\"preconnect\"/> <link href=\"https://js-sec.indexww.com\" rel=\"preconnect\"/> <link href=\"https://securepubads.g.doubleclick.net\" rel=\"preconnect\"/> <link href=\"https://www.googletagservices.com\" rel=\"preconnect\"/> <link href=\"https://www.google.com\" rel=\"preconnect\"/> <link href=\"https://adservice.google.com\" rel=\"preconnect\"/> <link href=\"https://c.amazon-adsystem.com\" rel=\"preconnect\"/> <link href=\"https://aax.amazon-adsystem.com\" rel=\"preconnect\"/> <link href=\"https://aan.amazon-adsystem.com\" rel=\"preconnect\"/> <link href=\"https://pagead2.googlesyndication.com\" rel=\"preconnect\"/> <link href=\"https://tpc.googlesyndication.com\" rel=\"preconnect\"/> <link href=\"https://sync.search.spotxchange.com\" rel=\"preconnect\"/> <link href=\"https://googleads.g.doubleclick.net\" rel=\"preconnect\"/> <link href=\"https://ajax.googleapis.com\" rel=\"preconnect\"/> <link href=\"https://connect.facebook.net\" rel=\"preconnect\"/> <link href=\"https://cdn.heapanalytics.com\" rel=\"preconnect\"/> <link href=\"https://heapanalytics.com\" rel=\"preconnect\"/> <link href=\"https://merriam-webster.com/assets\" rel=\"preconnect\"/> <link href=\"https://stats.merriam-webster.com\" rel=\"dns-prefetch\"/> <link href=\"https://entitlements.jwplayer.com\" rel=\"dns-prefetch\"/> <link href=\"https://telemetry.art19.com\" rel=\"dns-prefetch\"/> <link href=\"https://p.versod.com\" rel=\"dns-prefetch\"/> <title>Hub | Definition of Hub by Merriam-Webster</title> <meta content=\"Hub definition is - the central part of a circular object (such as a wheel or propeller). How to use hub in a sentence.\" name=\"description\"/> <link href=\"https://www.merriam-webster.com/dictionary/hub\" rel=\"canonical\"/> <link href=\"/opensearch/dictionary.xml\" rel=\"search\" title=\"Merriam-Webster Dictionary\" type=\"application/opensearchdescription+xml\"/> <meta content=\"Definition of HUB\" property=\"og:title\"/> <meta content=\"https://merriam-webster.com/assets/mw/static/social-media-share/mw-logo-245x245@1x.png\" property=\"og:image\"/> <meta content=\"https://www.merriam-webster.com/dictionary/hub\" property=\"og:url\"/> <meta content=\"the central part of a circular object (such as a wheel or propeller); a center of activity : focal point; an airport or city through which an airline routes most of its traffic… See the full definition\" property=\"og:description\"/> <meta content=\"Post the Definition of hub to Facebook\" property=\"og:aria-text\"/> <meta content=\"Definition of HUB\" name=\"twitter:title\"/> <meta content=\"https://merriam-webster.com/assets/mw/static/social-media-share/mw-logo-245x245@1x.png\" name=\"twitter:image\"/> <meta content=\"https://www.merriam-webster.com/dictionary/hub\" name=\"twitter:url\"/> <meta content=\"the central part of a circular object (such as a wheel or propeller); a center of activity : focal point… See the full definition\" name=\"twitter:description\"/> <meta content=\"summary\" name=\"twitter:card\"/> <meta content=\"@MerriamWebster\" name=\"twitter:site\"/> <meta content=\"Share the Definition of hub on Twitter\" name=\"twitter:aria-text\"/> <link href=\"/apple-touch-icon.png\" rel=\"apple-touch-icon\" sizes=\"144x144\"/> <link href=\"/favicon-32x32.png\" rel=\"icon\" sizes=\"32x32\" type=\"image/png\"/> <link href=\"/favicon-32x32.png\" rel=\"icon\" sizes=\"192x192\" type=\"image/png\"/> <link href=\"/site.webmanifest\" rel=\"manifest\"/> <link color=\"#305f7a\" href=\"/safari-pinned-tab.svg\" rel=\"mask-icon\"/> <meta content=\"#2b5797\" name=\"msapplication-TileColor\"/> <meta content=\"#ffffff\" name=\"theme-color\"/> <link as=\"style\" href=\"https://cdn.jsdelivr.net/npm/select2@4.0.12/dist/css/select2.min.css\" onload=\"this.onload=null;this.rel='stylesheet'\" rel=\"preload\"/> <link href=\"https://merriam-webster.com/assets/mw/dist/compiled/css/style-dsp-redesign-definitions.88b3f5c12e16d5105113.css\" media=\"screen\" rel=\"stylesheet\"/> <link as=\"style\" href=\"https://merriam-webster.com/assets/mw/dist/compiled/css/style-fonts.7f111889b4e515fbb327.css\" onload=\"this.onload=null;this.rel='stylesheet'\" rel=\"preload\"/> <link as=\"style\" href=\"https://merriam-webster.com/assets/mw/dist/compiled/css/style-dsp-redesign-definitions-defer.38bcbbc775c2c58ae111.css\" onload=\"this.onload=null;this.rel='stylesheet'\" rel=\"preload\"/> <script>!function(t){\"use strict\";t.loadCSS||(t.loadCSS=function(){});var e=loadCSS.relpreload={};if(e.support=function(){var e;try{e=t.document.createElement(\"link\").relList.supports(\"preload\")}catch(t){e=!1}return function(){return e}}(),e.bindMediaToggle=function(t){var e=t.media||\"all\";function a(){t.media=e}t.addEventListener?t.addEventListener(\"load\",a):t.attachEvent&&t.attachEvent(\"onload\",a),setTimeout(function(){t.rel=\"stylesheet\",t.media=\"only x\"}),setTimeout(a,3e3)},e.poly=function(){if(!e.support())for(var a=t.document.getElementsByTagName(\"link\"),n=0;n<a.length;n++){var o=a[n];\"preload\"!==o.rel||\"style\"!==o.getAttribute(\"as\")||o.getAttribute(\"data-loadcss\")||(o.setAttribute(\"data-loadcss\",!0),e.bindMediaToggle(o))}},!e.support()){e.poly();var a=t.setInterval(e.poly,500);t.addEventListener?t.addEventListener(\"load\",function(){e.poly(),t.clearInterval(a)}):t.attachEvent&&t.attachEvent(\"onload\",function(){e.poly(),t.clearInterval(a)})}\"undefined\"!=typeof exports?exports.loadCSS=loadCSS:t.loadCSS=loadCSS}(\"undefined\"!=typeof global?global:this);</script> <script>var googletag=googletag||{};googletag.cmd=googletag.cmd||[];</script> <script>googletag.cmd.push(function() {\n",
       "          googletag.pubads().setTagForChildDirectedTreatment(0);\n",
       "          googletag.pubads().setTagForUnderAgeOfConsent(0);\n",
       "      });</script> <script async=\"\" src=\"//js-sec.indexww.com/ht/htw-merriam-webster.js\"></script> <script>googletag.cmd.push(function(){console.log(\"MW Console: Index Wrapper ready: \"+!!(window.headertag&&window.headertag.apiReady));console.log(\"MW Console: Google Tag Library Ready: \"+!!googletag.apiReady);if(typeof window.headertag==='undefined'||window.headertag.apiReady!==true){window.headertag=googletag;}});</script> <script async=\"\" src=\"https://securepubads.g.doubleclick.net/tag/js/gpt.js\"></script> <script type=\"text/javascript\">!function(a9,a,p,s,t,A,g){if(a[a9])return;function q(c,r){a[a9]._Q.push([c,r])}a[a9]={init:function(){q(\"i\",arguments)},fetchBids:function(){q(\"f\",arguments)},setDisplayBids:function(){},targetingKeys:function(){return[]},_Q:[]};A=p.createElement(s);A.async=!0;A.src=t;g=p.getElementsByTagName(s)[0];g.parentNode.insertBefore(A,g)}(\"apstag\",window,document,\"script\",\"//c.amazon-adsystem.com/aax2/apstag.js\");apstag.init({pubID:'3022',adServer:'googletag',bidTimeout:1500});</script> <script type=\"text/javascript\">!(function(o,n,t){t=o.createElement(n),o=o.getElementsByTagName(n)[0],t.async=1,t.src=\"https://plantdigestion.com/v2/0/xkkgyedD7Amo8zyAVoNIfW2Cyok3dlTkiK4K3eCqBGybmSj66dGdFmDCjdmaD11GPJg\",o.parentNode.insertBefore(t,o)})(document,\"script\"),(function(o,n){o[n]=o[n]||function(){(o[n].q=o[n].q||[]).push(arguments)}})(window,\"admiral\");!(function(n,e,r,t){function o(){if((function o(t){try{return(t=localStorage.getItem(\"v4ac1eiZr0\"))&&0<t.split(\",\")[4]}catch(n){}return!1})()){var t=n[e].pubads();typeof t.setTargeting===r&&t.setTargeting(\"admiral-engaged\",\"true\")}}(t=n[e]=n[e]||{}).cmd=t.cmd||[],typeof t.pubads===r?o():typeof t.cmd.unshift===r?t.cmd.unshift(o):t.cmd.push(o)})(window,\"googletag\",\"function\");</script> <script>window.admiral(\"after\", \"measure.detected\", function(user){\n",
       "    var heapApi = (typeof(heap) !== \"undefined\" && typeof(heap.addUserProperties) == \"function\");\n",
       "    if (user.adblocking) {\n",
       "        if (heapApi) {\n",
       "            console.log(\"Admiral: Heap User Property: 'Adblock': 'blocked'\");\n",
       "            heap.addUserProperties({'Adblock': 'blocked'});\n",
       "        }\n",
       "    }\n",
       "    if (user.whitelisted) {\n",
       "        if (heapApi) {\n",
       "            console.log(\"Admiral: Heap User Property: Adblock: 'whitelisted' \");\n",
       "            console.log(\"Admiral: Heap Event whitelisted \" + user.whitelisted);\n",
       "            heap.addUserProperties({'Adblock': 'whitelisted'});\n",
       "            heap.track(\"Adblock\",{\"whitelisted\": \"true\"} );\n",
       "        }\n",
       "    }\n",
       "});\n",
       "\n",
       "window.admiral(\"after\", \"engage.loaded\", function(rendered) {\n",
       "    if (rendered) {\n",
       "        window.disableSubscribeOverlay = true;\n",
       "        window.disableRecircBar = true;\n",
       "        if (window.sessionStorage) {\n",
       "            window.sessionStorage.setItem('admiralPopup', '1');\n",
       "        }\n",
       "        if ( (typeof(heap) !== \"undefined\" && typeof(heap.track) == \"function\")) {\n",
       "            console.log(\"Admiral: Heap Event Admiral Engage: 'rendered \");\n",
       "            heap.track(\"Admiral Engage\", {\"rendered\": \"true\"});\n",
       "        }\n",
       "    }\n",
       "});</script> <script async=\"\" data-e=\"5\" data-key=\"12ca4747-8e80-4a36-b550-dc239c18b954\" id=\"ns_script_dc\" src=\"//includemodal.global.ssl.fastly.net/sp.js\"></script> <script>window.mwdata={\"importModules\":[],\"search\":\"hub\",\"heapID\":\"537798487\",\"statusRefreshTime\":600,\"gaSiteId\":\"UA-296234-25\",\"gtagSlots\":[],\"cat\":\"MT-3#TN-2b#MO-3#HW-3#ME-1#CP-2c#EE-2c\",\"fbAppId\":\"178450008855735\",\"fbSdkReady\":false,\"processAds\":false,\"fbSdkQueue\":[],\"assetsDomain1\":\"https://merriam-webster.com/assets\",\"assetsDomain2\":\"https://merriam-webster.com/assets\",\"svgPath\":\"https://merriam-webster.com/assets/mw/dist/compiled\",\"assetsDomain3\":\"https://media2.merriam-webster.com\",\"pronsDomain\":\"https://media.merriam-webster.com\",\"ssoDomainFront\":\"https://sso.merriam-webster.com\",\"contentSource\":\"OWL\",\"contentType1\":null,\"contentType2\":null,\"contentType3\":null,\"taxon\":null,\"userSearch\":\"hub\",\"partialMatch\":\"false\",\"jwkey\":\"zw1JPzyqv2DcY1xJTZncAt9HKaUKLEztLQFMqw==\",\"jwPlayerPath\":\"https://merriam-webster.com/assets/mw/jwplayer-8.10.3/\",\"gaNoTrackOnLoad\":false,\"gaSpecialTracking\":null,\"gaSpecialTrackingWord\":null,\"ref\":\"dictionary\",\"canonicalURL\":\"https://www.merriam-webster.com/dictionary/hub\"};window.mwdata.partialURL=location.pathname;window.mwHeapEvents=window.mwHeapEvents||{};</script> <script type=\"text/javascript\">window.heap=window.heap||[],heap.load=function(e,t){window.heap.appid=e,window.heap.config=t=t||{};var r=t.forceSSL||\"https:\"===document.location.protocol,a=document.createElement(\"script\");a.type=\"text/javascript\",a.async=!0,a.src=(r?\"https:\":\"http:\")+\"//cdn.heapanalytics.com/js/heap-\"+e+\".js\";var n=document.getElementsByTagName(\"script\")[0];n.parentNode.insertBefore(a,n);for(var o=function(e){return function(){heap.push([e].concat(Array.prototype.slice.call(arguments,0)))}},p=[\"addEventProperties\",\"addUserProperties\",\"clearEventProperties\",\"identify\",\"removeEventProperty\",\"setEventProperties\",\"track\",\"unsetEventProperty\"],c=0;c<p.length;c++)heap[p[c]]=o(p[c])};heap.load(window.mwdata.heapID);heap.clearEventProperties();</script> <script defer=\"\" src=\"https://merriam-webster.com/assets/mw/dist/compiled/js/js-dsp-redesign-definitions.9ed29d6f9ce10b6d2953.js\"></script> <body class=\"no-touch definitions-page dictionary-lookup\"><div class=\"outer-container\"><div class=\"main-container\"><div class=\"menu-filler\"></div> <header class=\"shrinkheader\"><div class=\"container navbar\"><a class=\"logo-cnt\" href=\"/\"><img alt=\"Merriam-Webster Logo\" src=\"https://merriam-webster.com/assets/mw/static/app-css-images/logos/mw-logo.png\" srcset=\"https://merriam-webster.com/assets/mw/static/app-css-images/logos/MW_logo@2x.png 2x\"/></a> <div class=\"since1828-cnt\"><span class=\"since1828-text\">SINCE</span> <span class=\"since1828-num\">1828</span></div> <a aria-label=\"Settings\" class=\"nav-username ul-username\" href=\"/settings\"></a> <div class=\"nav-btn-cnt menu-toggle\"><svg height=\"20px\" version=\"1.1\" viewbox=\"0 0 24 20\" width=\"24px\" xmlns=\"http://www.w3.org/2000/svg\" xmlns:xlink=\"http://www.w3.org/1999/xlink\"><g fill=\"none\" fill-rule=\"evenodd\" id=\"Menu\" stroke=\"none\" stroke-width=\"1\"><rect class=\"menu-rec\" fill=\"#ffffff\" height=\"3\" rx=\"1.5\" width=\"24\" x=\"0\" y=\"0\"></rect> <rect class=\"menu-rec\" fill=\"#ffffff\" height=\"3\" rx=\"1.5\" width=\"24\" x=\"0\" y=\"16\"></rect> <rect class=\"menu-rec\" fill=\"#ffffff\" height=\"3\" rx=\"1.5\" width=\"24\" x=\"0\" y=\"8\"></rect></g></svg></div> <div class=\"nav-search-btn mob-search-btn\"><span class=\"search-icon\"> <svg height=\"29px\" version=\"1.1\" viewbox=\"0 0 26 29\" width=\"26px\" xmlns=\"http://www.w3.org/2000/svg\" xmlns:xlink=\"http://www.w3.org/1999/xlink\"><g class=\"Search\" fill=\"none\" fill-rule=\"evenodd\" stroke=\"none\" stroke-width=\"1\"><g class=\"g-search-icon\" fill=\"#ffffff\" fill-rule=\"nonzero\" transform=\"translate(1.000000, 1.000000)\"><path class=\"Oval\" d=\"M17.5185815,17.4073633 L24.5896493,24.4784311 C24.9801736,24.8689554 24.9801736,25.5021204 24.5896493,25.8926447 L23.1754357,27.3068582 C22.7849114,27.6973825 22.1517464,27.6973825 21.7612221,27.3068582 L14.6901543,20.2357904 C14.29963,19.8452661 14.29963,19.2121011 14.6901543,18.8215769 L16.1043679,17.4073633 C16.4948922,17.016839 17.1280572,17.016839 17.5185815,17.4073633 Z M10.5,21 C4.70101013,21 0,16.2989899 0,10.5 C0,4.70101013 4.70101013,0 10.5,0 C16.2989899,0 21,4.70101013 21,10.5 C21,16.2989899 16.2989899,21 10.5,21 Z M10.5,18 C14.6421356,18 18,14.6421356 18,10.5 C18,6.35786438 14.6421356,3 10.5,3 C6.35786438,3 3,6.35786438 3,10.5 C3,14.6421356 6.35786438,18 10.5,18 Z\"></path></g></g></svg></span></div> <div class=\"search-cnt\"><nav class=\"link-bar\"><ul class=\"link-bar-l\" role=\"navigation\"><li><a href=\"/word-games\">GAMES</a> <li><a href=\"/thesaurus\">BROWSE THESAURUS</a> <li><a href=\"/word-of-the-day\">WORD OF THE DAY</a> <li><a href=\"/words-at-play\">WORDS AT PLAY</a></li></li></li></li></ul> <div class=\"link-bar-r ul-login-menu\"><ul class=\"ul-login-links\"><li class=\"ul-logged-out-show\"><a href=\"/login\" rel=\"nofollow\">LOG IN</a> <li class=\"ul-logged-out-show\"><a href=\"/register\" rel=\"nofollow\">REGISTER</a> <li class=\"ul-logged-in-show ul-logged-in-menu\"><a aria-label=\"Settings\" class=\"ul-link-settings\" href=\"/settings\" rel=\"nofollow\"><div class=\"ul-username\"></div> <span class=\"ul-up-down\"><svg height=\"8px\" version=\"1.1\" viewbox=\"0 0 12 8\" width=\"12px\" xmlns=\"http://www.w3.org/2000/svg\" xmlns:xlink=\"http://www.w3.org/1999/xlink\"><g fill=\"none\" fill-rule=\"evenodd\" id=\"UpDown\" stroke=\"none\" stroke-width=\"1\"><g fill=\"#e7f0f4\" fill-rule=\"nonzero\" id=\"Icon/UpDown\"><polygon id=\"Path-5-Copy\" points=\"10.008102 8.51585107 8.67927076 10.0105776 1.96512554 4.04161556 8.67679516 -1.96512554 10.0105776 -0.47481539 4.96968377 4.03663198\" transform=\"translate(5.987852, 4.022726) scale(1, -1) rotate(-270.000000) translate(-5.987852, -4.022726) \"></polygon></g></g></svg></span></a> <div class=\"ul-loggedin-links\"><a aria-label=\"Settings\" href=\"/settings\" rel=\"nofollow\">settings</a></div> <li><a class=\"ul-favorites\" href=\"/saved-words\" rel=\"nofollow\"><svg class=\"ul-word-list-icon\" height=\"19px\" version=\"1.1\" viewbox=\"0 0 14 19\" width=\"14px\" xmlns=\"http://www.w3.org/2000/svg\" xmlns:xlink=\"http://www.w3.org/1999/xlink\"><g fill=\"#97bece\" fill-rule=\"evenodd\" id=\"WordList\" stroke=\"none\" stroke-width=\"1\"><polygon fill=\"#97bece\" id=\"Path-12\" points=\"1 8 13 8 13 17 7 12.6775391 1 17\"></polygon> <polygon id=\"Path-12\" points=\"1 1 13 1 13 17 6.98357563 12.2587174 1 17\" stroke=\"#fff\" stroke-width=\"1.5\"></polygon></g></svg>SAVED WORDS\n",
       "              </a></li></li></li></li></ul></div></nav> <form action=\"/dictionary\" class=\"container s-frm clearfix\" id=\"mw-search-frm\"><div class=\"s-term-cnt border-box\"><span class=\"search-bar-submit\"></span> <input aria-label=\"Search\" autocapitalize=\"off\" autocomplete=\"off\" autocorrect=\"off\" class=\"s-term\" id=\"s-term\" name=\"s\" spellcheck=\"false\" type=\"text\" value=\"hub\"/> <div class=\"clear-term-cnt\" id=\"clear-term-cnt\"><svg class=\"clear-search\" height=\"16\" id=\"clear-search\" viewbox=\"0 0 18 18\" width=\"16\" xmlns=\"http://www.w3.org/2000/svg\"><g fill=\"none\" fill-rule=\"evenodd\" stroke=\"#265667\" stroke-linecap=\"round\" stroke-width=\"3\"><path d=\"M1.5 1.5l15 15M16.5 1.5l-15 15\"></path></g></svg></div> <div class=\"nav-search-btn desk-search-btn\"><span class=\"search-icon\"><svg height=\"29px\" version=\"1.1\" viewbox=\"0 0 26 29\" width=\"26px\" xmlns=\"http://www.w3.org/2000/svg\" xmlns:xlink=\"http://www.w3.org/1999/xlink\"><g class=\"Search\" fill=\"none\" fill-rule=\"evenodd\" stroke=\"none\" stroke-width=\"1\"><g class=\"g-search-icon\" fill=\"#ae0015\" fill-rule=\"nonzero\" transform=\"translate(1.000000, 1.000000)\"><path class=\"Oval\" d=\"M17.5185815,17.4073633 L24.5896493,24.4784311 C24.9801736,24.8689554 24.9801736,25.5021204 24.5896493,25.8926447 L23.1754357,27.3068582 C22.7849114,27.6973825 22.1517464,27.6973825 21.7612221,27.3068582 L14.6901543,20.2357904 C14.29963,19.8452661 14.29963,19.2121011 14.6901543,18.8215769 L16.1043679,17.4073633 C16.4948922,17.016839 17.1280572,17.016839 17.5185815,17.4073633 Z M10.5,21 C4.70101013,21 0,16.2989899 0,10.5 C0,4.70101013 4.70101013,0 10.5,0 C16.2989899,0 21,4.70101013 21,10.5 C21,16.2989899 16.2989899,21 10.5,21 Z M10.5,18 C14.6421356,18 18,14.6421356 18,10.5 C18,6.35786438 14.6421356,3 10.5,3 C6.35786438,3 3,6.35786438 3,10.5 C3,14.6421356 6.35786438,18 10.5,18 Z\"></path></g></g></svg></span></div></div> <div class=\"header-search-tabs search-dictionary\" id=\"mw-search-tabs\"><span class=\"button dictionary-tab active\" data-ref=\"dictionary\" data-search-url=\"/dictionary\">dictionary</span> <span class=\"button thesaurus-tab\" data-ref=\"thesaurus\" data-search-url=\"/thesaurus\">thesaurus</span> <a href=\"/recents\" id=\"ul-header-view-recents\"><svg class=\"g-recents-icon\" height=\"18px\" version=\"1.1\" viewbox=\"0 0 18 18\" width=\"18px\" xmlns=\"http://www.w3.org/2000/svg\" xmlns:xlink=\"http://www.w3.org/1999/xlink\"><g fill=\"none\" fill-rule=\"evenodd\" id=\"Recents\" stroke=\"none\" stroke-width=\"1\"><path d=\"M9,0 C6.5179692,0 4.2714846,1.0125 2.64375,2.64375 L0.9,0.9 L0.9,5.4 L5.4,5.4 L3.909375,3.909375 C5.2136721,2.6050779 7.0136721,1.8 9,1.8 C12.9691404,1.8 16.2,5.0308596 16.2,9 C16.2,12.9691404 12.9691404,16.2 9,16.2 C5.0308596,16.2 1.8,12.9691404 1.8,9 C1.8,8.6941404 1.8175779,8.3953125 1.85625,8.1 L0.05625,8.1 C0.028125,8.3953125 0,8.6941404 0,9 C0,13.9640625 4.0359375,18 9,18 C13.9640625,18 18,13.9640625 18,9 C18,4.0359375 13.9640625,0 9,0 Z M8,5 L8,9.97841727 L10.8,13 L12,11.705036 L9.70666667,9.23021583 L9.70666667,5 L8,5 Z\" fill=\"#ffffff\" fill-rule=\"nonzero\" id=\"Shape\"></path></g></svg><span class=\"a-text\">view recents</span></a></div> <div class=\"s-autocomplete border-box\" id=\"mw-autocomplete\"></div></form></div></div></header> <div class=\"menu-mob-cnt ul-login-menu\" id=\"menu-mob-cnt\"><div aria-label=\"close trigger\" class=\"close-trigger\" id=\"menu-mob-close-trigger\"><svg height=\"18px\" version=\"1.1\" viewbox=\"0 0 18 18\" width=\"18px\" xmlns=\"http://www.w3.org/2000/svg\" xmlns:xlink=\"http://www.w3.org/1999/xlink\"><g fill=\"none\" fill-rule=\"evenodd\" id=\"X-Close\" stroke=\"none\" stroke-linecap=\"round\" stroke-width=\"1\"><path class=\"menu-x\" d=\"M1.5,1.5 L16.5,16.5\" id=\"Line-2\" stroke=\"#ffffff\" stroke-width=\"3\"></path> <path class=\"menu-x\" d=\"M16.5,1.5 L1.5,16.5\" id=\"Line-2\" stroke=\"#ffffff\" stroke-width=\"3\"></path></g></svg></div> <div class=\"ul-login-links ul-logged-out-show\"><div class=\"ul-links-header\"><a class=\"ul-login-link\" href=\"/login\" rel=\"nofollow\">Login</a>\n",
       "          or\n",
       "          <a class=\"ul-register-link\" href=\"/register\" rel=\"nofollow\">Register</a></div></div> <div class=\"ul-login-links ul-logged-in-show\"><div class=\"ul-links-header\">Hello,<br/> <a aria-label=\"Settings\" class=\"ul-link-username\" href=\"/settings\" rel=\"nofollow\"><span class=\"ul-username ul-username-mob\"></span></a></div></div> <ul><li><a href=\"/word-games\">GAMES</a> <li><a href=\"/thesaurus\">BROWSE THESAURUS</a> <li><a href=\"/word-of-the-day\">WORD OF THE DAY</a> <li class=\"l-wap\"><a href=\"/words-at-play\">WORDS AT PLAY</a> <li class=\"ul-logged-in-show\"><a aria-label=\"Settings\" href=\"/settings\">SETTINGS</a> <li class=\"l-sign-out ul-logged-in-show\"></li></li></li></li></li></li></ul> <ul class=\"ul-login-links-mob\"><li class=\"ul-favorites-link\"><a class=\"ul-favorites\" href=\"/saved-words\" rel=\"nofollow\"><span class=\"ul-word-list-icon\"><svg height=\"19px\" version=\"1.1\" viewbox=\"0 0 14 19\" width=\"14px\" xmlns=\"http://www.w3.org/2000/svg\" xmlns:xlink=\"http://www.w3.org/1999/xlink\"><g fill=\"#97bece\" fill-rule=\"evenodd\" id=\"WordList\" stroke=\"none\" stroke-width=\"1\"><polygon fill=\"#97bece\" id=\"Path-12\" points=\"1 8 13 8 13 17 7 12.6775391 1 17\"></polygon> <polygon id=\"Path-12\" points=\"1 1 13 1 13 17 6.98357563 12.2587174 1 17\" stroke=\"#fff\" stroke-width=\"1.5\"></polygon></g></svg></span>SAVED WORDS\n",
       "          </a> <a class=\"ul-recents-link ul-logged-in-show\" href=\"/recents\" id=\"ul-recents-link\"><span class=\"ul-recents-icon\"><svg height=\"18px\" version=\"1.1\" viewbox=\"0 0 18 18\" width=\"18px\" xmlns=\"http://www.w3.org/2000/svg\" xmlns:xlink=\"http://www.w3.org/1999/xlink\"><g fill=\"none\" fill-rule=\"evenodd\" id=\"Recents\" stroke=\"none\" stroke-width=\"1\"><path d=\"M9,0 C6.5179692,0 4.2714846,1.0125 2.64375,2.64375 L0.9,0.9 L0.9,5.4 L5.4,5.4 L3.909375,3.909375 C5.2136721,2.6050779 7.0136721,1.8 9,1.8 C12.9691404,1.8 16.2,5.0308596 16.2,9 C16.2,12.9691404 12.9691404,16.2 9,16.2 C5.0308596,16.2 1.8,12.9691404 1.8,9 C1.8,8.6941404 1.8175779,8.3953125 1.85625,8.1 L0.05625,8.1 C0.028125,8.3953125 0,8.6941404 0,9 C0,13.9640625 4.0359375,18 9,18 C13.9640625,18 18,13.9640625 18,9 C18,4.0359375 13.9640625,0 9,0 Z M8,5 L8,9.97841727 L10.8,13 L12,11.705036 L9.70666667,9.23021583 L9.70666667,5 L8,5 Z\" fill=\"#ffffff\" fill-rule=\"nonzero\" id=\"Shape\"></path></g></svg></span>view recents</a></li></ul></div> <div class=\"menu-mob-underlay\" id=\"menu-mob-underlay\"></div> <div class=\"abl mw-ad-slot-top abl-m320-t728-d728\"><div id=\"mw-ad-slot-top\"></div></div> <script>window.mwHeapEvents['Definition - Function Label']=\"noun\";window.mwHeapEvents['Definition - Has Homograph']=\"true\";window.mwHeapEvents['Definition - Number of Words']=153;window.mwHeapEvents['Definition - Number of Senses']=8;</script> <div class=\"container\" data-word-click=\"enabled\" id=\"definition-wrapper\"><div class=\"row\"><div class=\"left-content col-lg-7 col-xl-8\" id=\"left-content\"><span class=\"anchor-name\" data-hom=\"1\" href=\"#\" id=\"h1-anchor\"></span> <div class=\"row entry-header\"><div class=\"col-12\"><h1 class=\"hword\">hub</h1> <span class=\"fl\"><a class=\"important-blue-link\" href=\"/dictionary/noun\">noun</a></span></div> <div class=\"col-12 save-to-list\"><a data-ref=\"dictionary\" data-word=\"hub\" href=\"/saved-words\" id=\"save-to-list-link\"><span class=\"ul-add-icon ul-icon\"><svg class=\"ul-word-list-icon\" height=\"19px\" version=\"1.1\" viewbox=\"0 0 14 19\" width=\"14px\" xmlns=\"http://www.w3.org/2000/svg\" xmlns:xlink=\"http://www.w3.org/1999/xlink\"><g fill=\"none\" fill-rule=\"evenodd\" id=\"WordList\" stroke=\"none\" stroke-width=\"1\"><rect class=\"rect-fill\" height=\"9\" id=\"RectFill\" r=\"0\" rx=\"0\" ry=\"0\" stroke=\"none\" width=\"12\" x=\"1\" y=\"1\"></rect> <polygon fill=\"#97bece\" id=\"Path-10\" points=\"1 8 13 8 13 17 7 12.6775391 1 17\"></polygon> <polygon id=\"Path-11\" points=\"1 1 13 1 13 17 6.98357563 12.2587174 1 17\" stroke=\"#fff\" stroke-width=\"1.5\"></polygon></g></svg></span> <span id=\"save-to-list-txt\">Save Word</span></a></div></div> <div class=\"ul-must-login-def\"><transition name=\"fade\"><div class=\"ul-confirm-dialog\" id=\"ul-must-login\"><div class=\"ul-confirm-dialog-window\"><p>To save this word, you'll need to log in. <div class=\"actions\"><a class=\"ul-button ul-button-secondary hoverable\" href=\"/login\"><div class=\"ul-action-text\">Log In <img alt=\"\" aria-hidden=\"true\" class=\"svg\" height=\"18\" src=\"https://merriam-webster.com/assets/mw/dist/compiled/images/svg/double-arrows-white.svg\" width=\"18\"/></div></a></div> <div class=\"mw__arrow\" x-arrow=\"\"></div></p></div></div></transition></div> <div class=\"row entry-attr\"><div class=\"col\"><span class=\"prs\"><span class=\"first-slash\">\\</span><span class=\"pr\"> ˈhəb</span> <a class=\"play-pron hw-play-pron\" data-dir=\"h\" data-file=\"hub00001\" data-lang=\"en_us\" data-title=\"How to pronounce hub (audio)\" data-url=\"https://www.merriam-webster.com/dictionary/hub?pronunciation&amp;lang=en_us&amp;dir=h&amp;file=hub00001\" href=\"https://www.merriam-webster.com/dictionary/hub?pronunciation&amp;lang=en_us&amp;dir=h&amp;file=hub00001\" title=\"How to pronounce hub (audio)\"><img alt=\"How to pronounce hub (audio)\" class=\"svg\" src=\"https://merriam-webster.com/assets/mw/dist/compiled/images/svg/audio.svg\"/></a> <span class=\"last-slash\">\\</span></span></div></div> <div id=\"dictionary-entry-1\"><div class=\"row vg-header\"><div class=\"col\"><h2>Definition of <em>hub</em></h2><p class=\"entryNumbers\"></p></div></div> <div class=\"vg\"><div class=\"sb has-num\"><span class=\"sb-0\"><div class=\"sense has-num-only\"><span class=\"sn sense-1\"><span class=\"num\">1</span></span> <span class=\"dt\"><span class=\"dtText\"><strong class=\"mw_t_bc\">: </strong>the central part of a circular object (such as a wheel or propeller)                                      \n",
       "             \n",
       "             <span class=\"ex-sent first-child t no-aq sents\">spokes attached to the <span class=\"mw_t_wi\">hub</span> of the wheel</span></span></span></div></span></div> <div class=\"sb has-num has-let\"><span class=\"sb-0\"><div class=\"sense has-sn\"><span class=\"sn sense-2 a\"><span class=\"num\">2</span><span class=\"letter\">a</span></span> <span class=\"dt\"><span class=\"dtText\"><strong class=\"mw_t_bc\">: </strong>a center of activity <strong class=\"mw_t_bc\">: </strong><a class=\"mw_t_sx\" href=\"/dictionary/focal point\"><span class=\"text-uppercase\">focal point</span></a> <span class=\"ex-sent first-child t no-aq sents\">The island is a major tourist <span class=\"mw_t_wi\">hub</span>.</span></span></span></div></span> <span class=\"sb-1\"><div class=\"sense has-sn\"><span class=\"sn sense-b\"><span class=\"letter\">b</span></span> <span class=\"dt\"><span class=\"dtText\"><strong class=\"mw_t_bc\">: </strong>an airport or city through which an airline routes most of its traffic</span></span></div></span> <span class=\"sb-2\"><div class=\"sense has-sn\"><span class=\"sn sense-c\"><span class=\"letter\">c</span></span> <span class=\"dt\"><span class=\"dtText\"><strong class=\"mw_t_bc\">: </strong>a central device that connects multiple computers on a single network (see <a class=\"mw_t_dxt\" href=\"/dictionary/network#h1\"><span class=\"text-uppercase\">network</span> <span class=\"text-lowercase\">entry</span> 1 <span class=\"text-lowercase\">sense 3b</span></a>)</span></span></div></span></div> <div class=\"sb has-num\"><span class=\"sb-0\"><div class=\"sense has-num-only\"><span class=\"sn sense-3\"><span class=\"num\">3</span></span> <span class=\"dt\"><span class=\"dtText\"><strong class=\"mw_t_bc\">: </strong>a steel punch from which a working die (see <a class=\"mw_t_dxt\" href=\"/dictionary/die#h2\"><span class=\"text-uppercase\">die</span> <span class=\"text-lowercase\">entry</span> 2 <span class=\"text-lowercase\">sense 3a</span></a>) for a coin or medal is made</span></span></div></span></div></div></div> <script>window.mwHeapEvents['Definition - Has Jumplinks']=\"true\";</script> <div class=\"wgt-incentive-anchors\"><div class=\"anchor-list\"><a data-hash=\"synonyms\" data-link=\".thesaurus-synonyms-module-anchor\" data-tracking-action=\"Scroll Anchor Link Click\" data-tracking-category=\"Engagement - Definition\" data-tracking-label=\"Synonym Antonym Guide: hub\" href=\"#synonyms\"><svg height=\"26px\" version=\"1.1\" viewbox=\"0 0 22 26\" width=\"22px\" xmlns=\"http://www.w3.org/2000/svg\" xmlns:xlink=\"http://www.w3.org/1999/xlink\"><g class=\"Jumplink_Arrow\" fill=\"none\" fill-rule=\"evenodd\" stroke=\"none\" stroke-width=\"1\"><g class=\"Arrow\" fill=\"#97bece\" fill-rule=\"nonzero\"><path class=\"logo Combined-Shape\" d=\"M13,19.5635256 L18.668743,14.5074335 C19.4930647,13.7722005 20.7573336,13.8444213 21.4925665,14.668743 C22.2277995,15.4930647 22.1555787,16.7573336 21.331257,17.4925665 L12.3618903,25.4925665 C11.6052562,26.1674271 10.46334,26.1693571 9.7044291,25.4970579 L0.673795825,17.4970579 C-0.153006447,16.7646156 -0.229500284,15.5005981 0.502942057,14.6737958 C1.2353844,13.8469936 2.4994019,13.7704997 3.32620418,14.5029421 L9,19.5292082 L9,2 C9,0.8954305 9.8954305,0 11,0 C12.1045695,0 13,0.8954305 13,2 L13,19.5635256 Z\"></path></g></g></svg>\n",
       "            Synonyms        </a> <a data-hash=\"examples\" data-link=\".examples-module-anchor\" data-tracking-action=\"Scroll Anchor Link Click\" data-tracking-category=\"Engagement - Definition\" data-tracking-label=\"Examples: hub\" href=\"#examples\"><svg height=\"26px\" version=\"1.1\" viewbox=\"0 0 22 26\" width=\"22px\" xmlns=\"http://www.w3.org/2000/svg\" xmlns:xlink=\"http://www.w3.org/1999/xlink\"><g class=\"Jumplink_Arrow\" fill=\"none\" fill-rule=\"evenodd\" stroke=\"none\" stroke-width=\"1\"><g class=\"Arrow\" fill=\"#97bece\" fill-rule=\"nonzero\"><path class=\"logo Combined-Shape\" d=\"M13,19.5635256 L18.668743,14.5074335 C19.4930647,13.7722005 20.7573336,13.8444213 21.4925665,14.668743 C22.2277995,15.4930647 22.1555787,16.7573336 21.331257,17.4925665 L12.3618903,25.4925665 C11.6052562,26.1674271 10.46334,26.1693571 9.7044291,25.4970579 L0.673795825,17.4970579 C-0.153006447,16.7646156 -0.229500284,15.5005981 0.502942057,14.6737958 C1.2353844,13.8469936 2.4994019,13.7704997 3.32620418,14.5029421 L9,19.5292082 L9,2 C9,0.8954305 9.8954305,0 11,0 C12.1045695,0 13,0.8954305 13,2 L13,19.5635256 Z\"></path></g></g></svg>\n",
       "            More Example Sentences          </a> <a data-hash=\"learn-more\" data-link=\".learn-more-module-anchor\" data-tracking-action=\"Scroll Anchor Link Click\" data-tracking-category=\"Engagement - Definition\" data-tracking-label=\"Learn More: hub\" href=\"#learn-more\"><svg height=\"26px\" version=\"1.1\" viewbox=\"0 0 22 26\" width=\"22px\" xmlns=\"http://www.w3.org/2000/svg\" xmlns:xlink=\"http://www.w3.org/1999/xlink\"><g class=\"Jumplink_Arrow\" fill=\"none\" fill-rule=\"evenodd\" stroke=\"none\" stroke-width=\"1\"><g class=\"Arrow\" fill=\"#97bece\" fill-rule=\"nonzero\"><path class=\"logo Combined-Shape\" d=\"M13,19.5635256 L18.668743,14.5074335 C19.4930647,13.7722005 20.7573336,13.8444213 21.4925665,14.668743 C22.2277995,15.4930647 22.1555787,16.7573336 21.331257,17.4925665 L12.3618903,25.4925665 C11.6052562,26.1674271 10.46334,26.1693571 9.7044291,25.4970579 L0.673795825,17.4970579 C-0.153006447,16.7646156 -0.229500284,15.5005981 0.502942057,14.6737958 C1.2353844,13.8469936 2.4994019,13.7704997 3.32620418,14.5029421 L9,19.5292082 L9,2 C9,0.8954305 9.8954305,0 11,0 C12.1045695,0 13,0.8954305 13,2 L13,19.5635256 Z\"></path></g></g></svg>\n",
       "            Learn More about <em>hub</em></a></div></div> <span id=\"anchor-seporator\"></span> <div class=\"d-block d-lg-none d-xl-none ads\"><p class=\"text-center disclaimer font-italic\">Keep scrolling for more <div class=\"light-break above-ads\"></div> <div class=\"abl mw-ad-slot-top abl-m300-t728-d728 mw-ad-slot-content\"></div> <div class=\"light-break below-ads\"></div></p></div> <div class=\"widget synonyms_list thesaurus-synonyms-module-anchor\" id=\"synonyms-anchor\"><h2>Synonyms for <em>hub</em></h2> <p class=\"function-label\">Synonyms <ul class=\"mw-list\"><li><a href=\"/dictionary/axis\">axis</a>, <li><a href=\"/dictionary/base\">base</a>, <li><a href=\"/dictionary/capital\">capital</a>, <li><a href=\"/dictionary/center\">center</a>, <li><a href=\"/dictionary/central\">central</a>, <li><a href=\"/dictionary/core\">core</a>, <li><a href=\"/dictionary/cynosure\">cynosure</a>, <li><a href=\"/dictionary/epicenter\">epicenter</a>, <li><a href=\"/dictionary/eye\">eye</a>, <li><a href=\"/dictionary/focus\">focus</a>, <li><a href=\"/dictionary/ground%20zero\">ground zero</a>, <li><a href=\"/dictionary/heart\">heart</a>, <li><a href=\"/dictionary/locus\">locus</a>, <li><a href=\"/dictionary/mecca\">mecca</a>, <li><a href=\"/dictionary/navel\">navel</a>, <li><a href=\"/dictionary/nerve%20center\">nerve center</a>, <li><a href=\"/dictionary/nexus\">nexus</a>, <li><a href=\"/dictionary/nucleus\">nucleus</a>, <li><a href=\"/dictionary/omphalos\">omphalos</a>, <li><a class=\"syn-last\" href=\"/dictionary/seat\">seat</a></li></li></li></li></li></li></li></li></li></li></li></li></li></li></li></li></li></li></li></li></ul> <a class=\"widget-button thesaurus\" href=\"/thesaurus/hub\">Visit the Thesaurus for More <img class=\"svg double-arrows\" src=\"https://merriam-webster.com/assets/mw/dist/compiled/images/svg/double-arrows-transparent.svg\"/></a></p></div> <script>window.mwHeapEvents['Definition - Has Synonyms']=\"true\";</script> <div class=\"widget example_sentences examples-module-anchor\" id=\"examples-anchor\"><h2>Examples of <em>hub</em> in a Sentence</h2> <script>window.mwHeapEvents['Definition - Has Example Sentences']=\"true\";</script> <div class=\"in-sentences\"><span class=\"ex-sent t no-aq sents\">\n",
       "         \n",
       "                        the <em class=\"mw_t_it\">hub</em> of the city    </span> <span class=\"ex-sent t no-aq sents\">\n",
       "         \n",
       "                        She was at the <em class=\"mw_t_it\">hub</em> of all the activity.    </span> <span class=\"ex-sent t no-aq sents\">\n",
       "         \n",
       "                        All of the airline's coast-to-coast flights pass through its <em class=\"mw_t_it\">hub</em>.    </span> <span class=\"ex-sent t no-aq sents\">\n",
       "         \n",
       "                        The spokes attach to the <em class=\"mw_t_it\">hub</em> of the wheel.    </span></div> <span class=\"widget-button show-expand\" href=\"#\" id=\"in-sentences\"><span class=\"see-text\">See More</span><img class=\"svg more\" src=\"https://merriam-webster.com/assets/mw/dist/compiled/images/svg/show-more.svg\"/><img class=\"svg less\" src=\"https://merriam-webster.com/assets/mw/dist/compiled/images/svg/show-less.svg\"/></span> <div id=\"example-hr\"></div> <script>window.mwHeapEvents['Definition - Has Henhouse']=\"true\";</script> <div class=\"on-web\"><span class=\"ex-header function-label\">Recent Examples on the Web</span> <span class=\"ex-sent sents\" data-example-id=\"7328530\"><span class=\"t has-aq\">Space at a building in the heart of Seattle’s tech <em>hub</em>.</span> <span class=\"aq has-aq\">\n",
       "        \t—\n",
       "        \t<a href=\"https://www.bloomberg.com/news/articles/2020-04-24/google-s-real-estate-pause-shows-cracks-in-tech-office-demand\" rel=\"nofollow noopener\" target=\"_blank\">\n",
       "            Natalie Wong, <em>Bloomberg.com</em>, \"Google’s Real Estate Pause Shows Cracks in Tech Office Demand,\" 28 Apr. 2020        \t</a></span></span> <span class=\"ex-sent sents\" data-example-id=\"7328531\"><span class=\"t has-aq\">That includes the creation of a business resource <em>hub </em>to help businesses cope with disruptions and keep their customers connected.</span> <span class=\"aq has-aq\">\n",
       "        \t—\n",
       "        \t<a href=\"https://www.al.com/news/2020/04/facebook-giving-100000-in-grants-to-huntsville-businesses-hurt-by-coronavirus.html\" rel=\"nofollow noopener\" target=\"_blank\">\n",
       "            Paul Gattis | Pgattis@al.com, <em>al</em>, \"Facebook giving $100,000 in grants to Huntsville businesses hurt by coronavirus,\" 23 Apr. 2020        \t</a></span></span> <span class=\"ex-sent sents\" data-example-id=\"7328532\"><span class=\"t has-aq\">Giroir returned to Texas in 2008 and eventually became vice chancellor at Texas A&amp;M University, vowing to transform the region into one of the world's <em>hubs </em>for vaccine development.</span> <span class=\"aq has-aq\">\n",
       "        \t—\n",
       "        \t<a href=\"https://www.adn.com/nation-world/2020/04/20/trumps-coronavirus-testing-czar-was-forced-out-of-a-job-developing-vaccine-projects-now-hes-on-the-hot-seat/\" rel=\"nofollow noopener\" target=\"_blank\">\n",
       "            Michael Kranish, <em>Anchorage Daily News</em>, \"Trump’s coronavirus testing czar was forced out of a job developing vaccine projects. Now he’s on the hot seat.,\" 20 Apr. 2020        \t</a></span></span> <span class=\"ex-sent sents\" data-example-id=\"7328533\"><span class=\"t has-aq\">On Monday, the company would not confirm if two employees of the <em>hub </em>have died.</span> <span class=\"aq has-aq\">\n",
       "        \t—\n",
       "        \t<a href=\"https://www.courier-journal.com/story/news/2020/04/13/coronavirus-kentucky-ups-worldport-workers-worry-safety/5129415002/\" rel=\"nofollow noopener\" target=\"_blank\">\n",
       "            Ben Tobin, <em>The Courier-Journal</em>, \"'The least they could do is just tell us what’s going on': UPS employees feel left in dark,\" 13 Apr. 2020        \t</a></span></span> <span class=\"ex-sent sents\" data-example-id=\"7328534\"><span class=\"t has-aq\">Those who donate will not only have a better chance of winning their tiny dream home, but will get their name featured on the wall of the upcoming <em>hub</em>, which is being built on the first floor of PATH’s current building.</span> <span class=\"aq has-aq\">\n",
       "        \t—\n",
       "        \t<a href=\"https://www.housebeautiful.com/lifestyle/a32093963/win-dream-tiny-home-omaze-contest/\" rel=\"nofollow noopener\" target=\"_blank\">\n",
       "            Kelly Corbett, <em>House Beautiful</em>, \"You Could Win the Tiny Home of Your Dreams While Supporting California's Homeless Population,\" 9 Apr. 2020        \t</a></span></span> <span class=\"ex-sent sents\" data-example-id=\"7328535\"><span class=\"t has-aq\">One of those local innovation <em>hubs </em>is the ventilator rapid response team at UC Berkeley, which saw promise in sleep apnea machines.</span> <span class=\"aq has-aq\">\n",
       "        \t—\n",
       "        \t<a href=\"https://www.sfchronicle.com/health/article/Bay-Area-innovates-in-crisis-UC-Berkeley-15188255.php\" rel=\"nofollow noopener\" target=\"_blank\">\n",
       "            Mallory Moench, <em>SFChronicle.com</em>, \"Bay Area innovates in crisis: UC Berkeley engineers convert sleep apnea machines to ventilate coronavirus patients,\" 8 Apr. 2020        \t</a></span></span> <span class=\"ex-sent sents\" data-example-id=\"7328536\"><span class=\"t has-aq\">Wuhan is one of China’s automotive <em>hubs</em>, with assembly plants for GM, Fiat Chrysler, Honda, Renault, Peugeot, Nissan, multiple Chinese automakers and dozens of suppliers.</span> <span class=\"aq has-aq\">\n",
       "        \t—\n",
       "        \t<a href=\"https://www.freep.com/story/money/cars/mark-phelan/2020/04/06/coronavirus-auto-show-avoided-massive-outbreak/5115409002/\" rel=\"nofollow noopener\" target=\"_blank\">\n",
       "            Mark Phelan, <em>Detroit Free Press</em>, \"Detroit auto show schedule change likely avoided earlier coronavirus outbreak, experts say,\" 6 Apr. 2020        \t</a></span></span> <span class=\"ex-sent sents\" data-example-id=\"7328537\"><span class=\"t has-aq\">At Newark, one of United's <em>hubs</em>, the carrier will drop from its current 139 flights per day to 62 destinations to 15 daily flights to just nine destinations.</span> <span class=\"aq has-aq\">\n",
       "        \t—\n",
       "        \t<a href=\"https://www.usatoday.com/story/news/health/2020/04/05/coronavirus-update-trump-surge-deaths-queen-pope-palm-sunday/5114188002/\" rel=\"nofollow noopener\" target=\"_blank\">\n",
       "            John Bacon, <em>USA TODAY</em>, \"Coronavirus live updates: US braces for surge in deaths; quiet Palm Sunday for pope; queen to speak,\" 5 Apr. 2020        \t</a></span></span> <p class=\"disclaimer\">\n",
       "                                    These example sentences are selected automatically from various online news sources to reflect current usage of the word 'hub.' Views expressed in the examples do not represent the opinion of Merriam-Webster or its editors. <a href=\"/contact-us?ref=freshexamples&amp;hw=hub&amp;url=https%3A%2F%2Fwww.merriam-webster.com%2Fdictionary%2Fhub\">Send us feedback</a>.\n",
       "                                </p></div> <span class=\"widget-button show-expand\" href=\"#\" id=\"on-web\"><span class=\"see-text\">See More</span><img class=\"svg more\" src=\"https://merriam-webster.com/assets/mw/dist/compiled/images/svg/show-more.svg\"/><img class=\"svg less\" src=\"https://merriam-webster.com/assets/mw/dist/compiled/images/svg/show-less.svg\"/></span></div> <div class=\"widget firstknown-list\" id=\"first-known-anchor\"><h2>First Known Use of <em>hub</em></h2> <p class=\"ety-sl\" data-entry-id=\"1\">1649, in the meaning defined at <a href=\"#h1\">sense 1</a></p></div> <script>window.mwHeapEvents['Definition - Has Etymology']=\"true\";</script> <div class=\"widget etymology-list\" id=\"etymology-anchor\"><h2>History and Etymology for <em>hub</em></h2> <p class=\"et\">\n",
       "                probably alteration of <a class=\"mw_t_et_link\" href=\"/dictionary/hob#etymology\">hob <span class=\"text-lowercase\">entry</span> 2</a></p></div> <div class=\"d-block d-lg-none d-xl-none ads\"><p class=\"text-center disclaimer font-italic\">Keep scrolling for more <div class=\"light-break above-ads\"></div> <div class=\"abl mw-ad-slot-top abl-m320-t728-d728 mw-ad-slot-content\"></div> <div class=\"light-break below-ads\"></div></p></div> <div class=\"heavy-break learn-more-module-anchor\" id=\"learn-more-anchor\"></div> <div class=\"widget learn_more\"><h2 class=\"learn-more-header\">Learn More about <em>hub</em></h2> <div class=\"light-break\"></div> <div class=\"row\" id=\"social-sidebar-container\"><div class=\"col-md-6\" id=\"share-anchor\"><p class=\"hword2\">Share <em>hub</em> <div class=\"row\"><div class=\"col\"><a class=\"fb share-link\" data-share-description=\"the central part of a circular object (such as a wheel or propeller); a center of activity : focal point; an airport or city through which an airline routes most of its traffic… See the full definition\" data-share-image=\"https://merriam-webster.com/assets/mw/static/social-media-share/mw-logo-245x245@1x.png\" data-share-title=\"Definition of HUB\" data-share-url=\"https://www.merriam-webster.com/dictionary/hub\" href=\"#\"><span class=\"aria-text\">Post the Definition of hub to Facebook</span> <img alt=\"Facebook\" class=\"svg\" src=\"https://merriam-webster.com/assets/mw/dist/compiled/images/svg/facebook.svg\"/></a> <a class=\"twitter share-link\" data-share-text=\"This is the @MerriamWebster definition of 'hub'\" data-share-url=\"https://www.merriam-webster.com/dictionary/hub\" href=\"#\"><span class=\"aria-text\">Share the Definition of hub on Twitter</span> <img alt=\"Twitter\" class=\"svg\" src=\"https://merriam-webster.com/assets/mw/dist/compiled/images/svg/twitter.svg\"/></a></div></div></p></div> <div class=\"col-md-6\" id=\"time-traveler-anchor\"><p class=\"hword2\">Time Traveler for <em>hub</em></p> <a class=\"time-traveler\" href=\"/time-traveler/1649?src=learn-more-timetraveler\"><img alt=\"Time Traveler\" class=\"svg\" src=\"https://merriam-webster.com/assets/mw/dist/compiled/images/svg/time-traveler.svg\"/></a> <h2 class=\"hword4\">The first known use of <em>hub</em> was \n",
       "                                in 1649</h2> <p><a class=\"see-more\" href=\"/time-traveler/1649?src=defrecirc-timetraveler-etycard\">See more words from the same year</a></p></div></div> <div class=\"row\" id=\"browse-dictionary\"><div class=\"col-md-6\" id=\"near-entries-anchor\"><h2>Dictionary Entries near <em>hub</em></h2> <p><a class=\"b-link\" data-ind=\"2\" href=\"/dictionary/Huastec\">Huastec</a> <p><a class=\"b-link\" data-ind=\"3\" href=\"/dictionary/Huave\">Huave</a> <p><a class=\"b-link\" data-ind=\"4\" href=\"/dictionary/huayule\">huayule</a> <p class=\"active\"><a class=\"b-link\" data-ind=\"5\" href=\"/dictionary/hub\">hub</a> <p><a class=\"b-link\" data-ind=\"6\" href=\"/dictionary/Hubabo\">Hubabo</a> <p><a class=\"b-link\" data-ind=\"7\" href=\"/dictionary/hubam%20clover\">hubam clover</a> <p><a class=\"b-link\" data-ind=\"8\" href=\"/dictionary/hub-and-spigot%20joint\">hub-and-spigot joint</a></p> <a class=\"widget-button hoverable see-more-browse\" href=\"/browse/dictionary/h/38\">See More Nearby Entries <svg class=\"svg double-arrows\" height=\"18px\" version=\"1.1\" viewbox=\"0 0 20 20\" width=\"18px\" xmlns=\"http://www.w3.org/2000/svg\" xmlns:xlink=\"http://www.w3.org/1999/xlink\"><g class=\"Button_DoubleArrow\" fill=\"none\" fill-rule=\"evenodd\" stroke=\"none\" stroke-width=\"1\"><g class=\"Icon/Button/DoubleArrow\" fill=\"#ffffff\" transform=\"translate(0.000000, -2.000000)\"><path class=\"outline Oval-2\" d=\"M10,20 C14.418278,20 18,16.418278 18,12 C18,7.581722 14.418278,4 10,4 C5.581722,4 2,7.581722 2,12 C2,16.418278 5.581722,20 10,20 Z M10,22 C4.4771525,22 0,17.5228475 0,12 C0,6.4771525 4.4771525,2 10,2 C15.5228475,2 20,6.4771525 20,12 C20,17.5228475 15.5228475,22 10,22 Z\" fill-rule=\"nonzero\"></path> <path class=\"logo »\" d=\"M14.5324998,12.5078125 L11.6340623,16.046875 L9.92312479,15.1171875 L12.0949998,12.3984375 L9.92312479,9.6796875 L11.6340623,8.75 L14.5324998,12.3046875 L14.5324998,12.5078125 Z M10.5793748,12.5078125 L7.68093729,16.046875 L5.96999979,15.1171875 L8.14187479,12.3984375 L5.96999979,9.6796875 L7.68093729,8.75 L10.5793748,12.3046875 L10.5793748,12.5078125 Z\"></path></g></g></svg></a></p></p></p></p></p></p></div> <div class=\"col-md-6\" id=\"statistics-anchor\"><h2>Statistics for <em>hub</em></h2> <div class=\"pop-update-wrapper\"><p class=\"function-title\">Last Updated <p class=\"update-date\">3 May 2020 <div class=\"hidden\" id=\"popularity-block-wrapper\"><p class=\"function-title\">Look-up Popularity <p class=\"popularity-block\" id=\"popularity-block\"></p></p></div></p></p></div></div> <div class=\"col-md-6\" id=\"cite-anchor\"><p class=\"hword2\">Cite this Entry <p id=\"citationText\">“Hub.” <em>Merriam-Webster.com Dictionary</em>, Merriam-Webster, https://www.merriam-webster.com/dictionary/hub. Accessed 11 May. 2020.</p> <select aria-label=\"citations\" class=\"js-example-basic-single\" id=\"citations\" name=\"citations\" style=\"width: 100%;\"><option data-attr=\"\" value=\"\"> <option data-attr=\"“Hub.” &lt;em&gt;Merriam-Webster.com Dictionary&lt;/em&gt;, Merriam-Webster, https://www.merriam-webster.com/dictionary/hub. Accessed 11 May. 2020.\" value=\"mla\">MLA <option data-attr=\"&lt;em&gt;Merriam-Webster.com Dictionary&lt;/em&gt;, s.v. “hub,” accessed May 11, 2020, https://www.merriam-webster.com/dictionary/hub.\" value=\"chicago\">Chicago <option data-attr=\"Merriam-Webster. (n.d.).  Hub. In &lt;em&gt;Merriam-Webster.com dictionary&lt;/em&gt;. Retrieved May 11, 2020, from https://www.merriam-webster.com/dictionary/hub\" value=\"apa\">APA <option data-attr=\"“hub,” &lt;em&gt;Merriam-Webster.com Dictionary&lt;/em&gt;, https://www.merriam-webster.com/dictionary/hub. Accessed 5/11/2020.\" value=\"mw\">Merriam-Webster</option></option></option></option></option></select></p></div></div></div> <div class=\"heavy-break bottom\"></div> <div class=\"d-block d-lg-none d-xl-none ads\"><p class=\"text-center disclaimer font-italic\">Keep scrolling for more <div class=\"light-break above-ads\"></div> <div class=\"abl mw-ad-slot-top abl-m320-t728-d728 mw-ad-slot-content\"></div> <div class=\"light-break below-ads\"></div></p></div> <div class=\"heavy-break\"></div> <div class=\"widget more_defs\"><p class=\"hword2 more-defs-header\" id=\"more-definitions-anchor\">More Definitions for <em>hub</em> <div class=\"light-break\"></div> <span id=\"learnersdictionary-anchor\"></span> <div id=\"other-entry-1\"><div class=\"row entry-header\"><div class=\"col\"><p class=\"hword\">hub</p> <span class=\"fl\"><em><a class=\"important-blue-link\" href=\"/dictionary/noun\">noun</a></em></span></div></div> <div class=\"row entry-attr\"><div class=\"col\"><span class=\"prs\"><a class=\"play-pron hw-play-pron\" data-dir=\"h\" data-file=\"hub00001\" data-lang=\"en_us\" data-title=\"How to pronounce hub (audio)\" data-url=\"https://www.merriam-webster.com/dictionary/hub?pronunciation&amp;lang=en_us&amp;dir=h&amp;file=hub00001\" href=\"https://www.merriam-webster.com/dictionary/hub?pronunciation&amp;lang=en_us&amp;dir=h&amp;file=hub00001\" title=\"How to pronounce hub (audio)\"><img alt=\"How to pronounce hub (audio)\" class=\"svg\" src=\"https://merriam-webster.com/assets/mw/dist/compiled/images/svg/audio.svg\"/></a></span></div></div> <div class=\"row vg-header\"><div class=\"col\"><h2 class=\"first-learners\" data-source=\"header-learners\">English Language Learners Definition of <em>hub</em></h2><p class=\"entryNumbers\"></p></div></div> <div class=\"learners-def\"><div class=\"vg\"><div class=\"sb no-sn\"><span class=\"sb-0\"><div class=\"sense no-subnum\"><span class=\"dt\"><span class=\"dtText\"><strong class=\"mw_t_bc\">: </strong>the central and most active part or place</span></span></div></span></div> <div class=\"sb no-sn\"><span class=\"sb-0\"><div class=\"sense no-subnum\"><span class=\"dt\"><span class=\"dtText\"><strong class=\"mw_t_bc\">: </strong>the airport or the city through which an airline sends most of its flights</span></span></div></span></div> <div class=\"sb no-sn\"><span class=\"sb-0\"><div class=\"sense no-subnum\"><span class=\"dt\"><span class=\"dtText\"><strong class=\"mw_t_bc\">: </strong>the center of a wheel, propeller, fan, etc.</span></span></div></span></div></div></div> <p class=\"ldLink\"><a href=\"http://www.learnersdictionary.com/search/hub\" rel=\"noopener\" target=\"_blank\">See the full definition for <em>hub</em> in the English Language Learners Dictionary</a></p></div> <div class=\"heavy-break entry\"></div> <span id=\"kidsdictionary-anchor\"></span> <div class=\"row entry-header\"><div class=\"col-12\"><p class=\"hword\">hub</p> <span class=\"fl\"><a class=\"important-blue-link\" href=\"/dictionary/noun\">noun</a></span></div></div> <div class=\"row entry-attr\"><div class=\"col\"><span class=\"prs\"><span class=\"first-slash\">\\</span><span class=\"pr\"> ˈhəb</span> <a class=\"play-pron hw-play-pron\" data-dir=\"h\" data-file=\"hub00001\" data-lang=\"en_us\" data-title=\"How to pronounce hub (audio)\" data-url=\"https://www.merriam-webster.com/dictionary/hub?pronunciation&amp;lang=en_us&amp;dir=h&amp;file=hub00001\" href=\"https://www.merriam-webster.com/dictionary/hub?pronunciation&amp;lang=en_us&amp;dir=h&amp;file=hub00001\" title=\"How to pronounce hub (audio)\"><img alt=\"How to pronounce hub (audio)\" class=\"svg\" src=\"https://merriam-webster.com/assets/mw/dist/compiled/images/svg/audio.svg\"/></a> <span class=\"last-slash\">\\</span></span></div></div> <div id=\"elementary-entry-1\"><div class=\"row vg-header\"><div class=\"col\"><h2>Kids Definition of <em>hub</em></h2><p class=\"entryNumbers\"></p></div></div> <div class=\"vg\"><div class=\"sb has-num\"><span class=\"sb-0\"><div class=\"sense has-num-only\"><span class=\"sn sense-1\"><span class=\"num\">1</span></span> <span class=\"dt\"><span class=\"dtText\"><strong class=\"mw_t_bc\">: </strong>the center of a wheel, propeller, or fan</span></span></div></span></div> <div class=\"sb has-num\"><span class=\"sb-0\"><div class=\"sense has-num-only\"><span class=\"sn sense-2\"><span class=\"num\">2</span></span> <span class=\"dt\"><span class=\"dtText\"><strong class=\"mw_t_bc\">: </strong>a center of activity                                      \n",
       "             \n",
       "             <span class=\"ex-sent first-child t no-aq sents\">The port is the island's <em class=\"mw_t_it\">hub</em>.</span></span></span></div></span></div></div></div> <div class=\"heavy-break entry\"></div> <span id=\"medicalDictionary-anchor\"></span> <div class=\"row entry-header\"><div class=\"col-12\"><p class=\"hword\">hub</p> <span class=\"fl\"><a class=\"important-blue-link\" href=\"/dictionary/noun\">noun</a></span></div></div> <div class=\"row entry-attr\"><div class=\"col\"><span class=\"prs\"><span class=\"first-slash\">\\</span><span class=\"pr\"> ˈhəb</span> <a class=\"play-pron hw-play-pron\" data-dir=\"h\" data-file=\"hub00001\" data-lang=\"en_us\" data-title=\"How to pronounce hub (audio)\" data-url=\"https://www.merriam-webster.com/dictionary/hub?pronunciation&amp;lang=en_us&amp;dir=h&amp;file=hub00001\" href=\"https://www.merriam-webster.com/dictionary/hub?pronunciation&amp;lang=en_us&amp;dir=h&amp;file=hub00001\" title=\"How to pronounce hub (audio)\"><img alt=\"How to pronounce hub (audio)\" class=\"svg\" src=\"https://merriam-webster.com/assets/mw/dist/compiled/images/svg/audio.svg\"/></a> <span class=\"last-slash\">\\</span></span></div></div> <div id=\"medical-entry-1\"><div class=\"row vg-header\"><div class=\"col\"><h2>Medical Definition of <em>hub</em></h2><p class=\"entryNumbers\"></p></div></div> <div class=\"vg\"><div class=\"sb no-sn\"><span class=\"sb-0\"><div class=\"sense no-subnum\"><span class=\"dt\"><span class=\"dtText\"><strong class=\"mw_t_bc\">: </strong>the enlarged base by which a hollow needle may be attached to a device (as a syringe)</span></span></div></span></div></div></div> <div class=\"heavy-break entry\"></div></p></div> <div class=\"d-block d-lg-none d-xl-none ads\"><p class=\"text-center disclaimer font-italic\">Keep scrolling for more <div class=\"light-break above-ads\"></div> <div class=\"abl mw-ad-slot-top abl-m320-t728-d728 mw-ad-slot-content\"></div> <div class=\"light-break below-ads\"></div></p></div> <div class=\"widget more-from\"><p class=\"hword2\">More from Merriam-Webster on <em>hub</em> <p>Thesaurus: <a href=\"/thesaurus/hub\">All synonyms and antonyms for <em>hub</em></a> <p>Rhyming Dictionary: <a href=\"http://rhymes.merriam.com/r/hub\" rel=\"nofollow noopener\" target=\"_blank\">Words that rhyme with <em>hub</em></a> <p>Spanish Central: <a href=\"http://www.spanishcentral.com/translate/hub\" rel=\"noopener\" target=\"_blank\">Translation of <em>hub</em></a> <p>Nglish: <a href=\"http://www.nglish.com/spanish/hub\" rel=\"noopener\" target=\"_blank\">Translation of <em>hub</em> for Spanish Speakers</a> <p>Britannica English: <a href=\"http://arabic.britannicaenglish.com/hub\" rel=\"noopener\" target=\"_blank\">Translation of <em>hub</em> for Arabic Speakers</a></p></p></p></p></p></p></div> <div class=\"widget seen-and-heard-block\"><p class=\"hword2\">Comments on <em>hub</em> <p class=\"comment-text\">What made you want to look up <em>hub</em>? Please tell us where you read or heard it (including the quote, if possible). <div class=\"toggle-fb-comments\"><a class=\"widget-button comment-expand toggle-link\" href=\"#\" id=\"seen-and-heard-block\"><span class=\"show-comment\">Show Comments <img aria-hidden=\"true\" class=\"svg more\" src=\"https://merriam-webster.com/assets/mw/dist/compiled/images/svg/show-more.svg\"/></span> <span class=\"hide-comment\">Hide Comments <img aria-hidden=\"true\" class=\"svg less\" src=\"https://merriam-webster.com/assets/mw/dist/compiled/images/svg/show-less.svg\"/></span></a> <div class=\"mw-loader\"></div> <div class=\"fb-comments-container\" data-href=\"http://www.merriam-webster.com/dictionary/hub\" data-numposts=\"10\" data-order-by=\"reverse_time\" data-width=\"100%\"></div></div></p></p></div></div> <div class=\"right-rail col-lg-5 col-xl-4\" id=\"definition-right-rail\"><div class=\"fixed-wrapper hash-bg\" id=\"definition-fixed-wrapper\"><div class=\"rail-abl-box\"><div class=\"abl abl-300-250-nr mw-ad-slot-right1\"></div></div> <div class=\"wgt-side wgt-wod-side top-location\"><h4 class=\"jc-wgt-title-type1 margin-t-0p9375em\"><a href=\"/word-of-the-day\">WORD OF THE DAY</a></h4> <div class=\"jc-under-tline-type2 margin-t-0p625em\"></div> <div class=\"ws-word-and-pron\"><h4 class=\"ws-word\"><a href=\"/word-of-the-day\">aggrandize</a></h4> <a class=\"play-pron jc-play-icon-type1\" data-dir=\"a\" data-file=\"aggran01\" data-lang=\"en_us\" href=\"javascript:void(0)\" title=\"Listen to the pronunciation of aggrandize\"><img alt=\"Listen to the pronunciation of aggrandize\" class=\"svg\" src=\"https://merriam-webster.com/assets/mw/dist/compiled/images/svg/audio.svg\"/></a></div> <p class=\"ws-def-text\"><a href=\"/word-of-the-day\">See Definitions and Examples</a> »\n",
       "  <div class=\"word-of-day-subscribe-block\"><p class=\"wod-lead\">Get Word of the Day daily email! <form action=\"/word-of-the-day\" class=\"js-wod-subscribe-frm\" method=\"post\"><input class=\"wod-submit\" name=\"wod-submit\" type=\"submit\" value=\"SUBSCRIBE\"/> <input aria-label=\"Subscribe to Word of the Day\" class=\"wod-subscribe\" name=\"wod-subscribe\" placeholder=\"Your email address\" type=\"text\"/></form></p></div></p></div></div> <div id=\"M300250BOT-sticky-wrapper\"><div class=\"rail-abl-box hash-bg\" id=\"M300250BOT-sticky\"><div class=\"abl abl-300-250-nr mw-ad-slot-right2\"></div> <div class=\"wgt-side wgt-games-side\"><h4 class=\"jc-wgt-title-type1\"><a href=\"/word-games\">Test Your Vocabulary</a></h4> <div class=\"jc-under-tline-type2 margin-t-0p625em margin-b-1p375em\"></div> <p class=\"lead\">Name More Food! <div class=\"wgt-games-side-items\"><div class=\"wgts-quiz-with-answers\"><ul class=\"wgts-quiz-question\"><li class=\"wgts-quiz-image\"><div class=\"thumbnail\"><span class=\"lazyload-container ratio-4-3\"><img alt=\"red fruit\" class=\"lazyload\" data-caption=\"\" data-credit=\"\" data-dim=\"quiz-games-quizplay-question\" data-ret-pref=\"red-fruit-2553-58ebae9ee81e7e44ddd4e5a038eb3123\" data-ret-x=\"1\" data-sizes=\"auto\" data-src=\"https://merriam-webster.com/assets/mw/images/quiz/quiz-games-quizplay-question/red-fruit-2553-58ebae9ee81e7e44ddd4e5a038eb3123@1x.jpg\" data-srcset=\"https://merriam-webster.com/assets/mw/images/quiz/quiz-games-quizplay-question/red-fruit-2553-58ebae9ee81e7e44ddd4e5a038eb3123@1x.jpg 1x, https://merriam-webster.com/assets/mw/images/quiz/quiz-games-quizplay-question/red-fruit-2553-58ebae9ee81e7e44ddd4e5a038eb3123@2x.jpg 2x\" data-type=\"quiz\" image-id=\"2553\" is_retina=\"true\" pair-id=\"2556\" src=\"data:image/gif;base64,R0lGODlhAQABAAAAACH5BAEKAAEALAAAAAABAAEAAAICTAEAOw==\"/></span></div> <li class=\"lead\">Name that Fruit!</li></li></ul> <div class=\"content\"><ul class=\"quiz-answer-list\"><li><a class=\"quiz-answer\" href=\"/word-games/name-more-food?q=437&amp;a=1717\">lingonberry</a> <a class=\"quiz-answer\" href=\"/word-games/name-more-food?q=437&amp;a=1715\">jackfruit</a><li><a class=\"quiz-answer\" href=\"/word-games/name-more-food?q=437&amp;a=1716\">pomelo</a> <a class=\"quiz-answer\" href=\"/word-games/name-more-food?q=437&amp;a=1714\">pomegranate</a></li></li></ul></div></div> <div class=\"wgts-quiz\"><div class=\"thumbnail\"><span class=\"lazyload-container ratio-4-3\"><img alt=\"Spell It\" class=\"lazyload\" data-dim=\"80x60\" data-sizes=\"auto\" data-src=\"https://merriam-webster.com/assets/mw/static/images/old-quizzes/spell-it/80x60@1x.jpg\" data-srcset=\"https://merriam-webster.com/assets/mw/static/images/old-quizzes/spell-it/80x60@1x.jpg 1x, https://merriam-webster.com/assets/mw/static/images/old-quizzes/spell-it/80x60@2x.jpg 2x\" src=\"data:image/gif;base64,R0lGODlhAQABAAAAACH5BAEKAAEALAAAAAABAAEAAAICTAEAOw==\"/></span></div> <div class=\"content\"><p class=\"blurb\">Can you spell these 10 commonly misspelled words?</p> <a class=\"to-quiz\" href=\"/word-games/spell-it\">TAKE THE QUIZ</a></div></div> <div class=\"wgts-quiz last\"><div class=\"thumbnail\"><span class=\"lazyload-container ratio-4-3\"><img alt=\"Dictionary Devil\" class=\"lazyload\" data-dim=\"204x153\" data-sizes=\"auto\" data-src=\"https://merriam-webster.com/assets/mw/static/images/games/special5/dictionary-devil/204x153@1x.jpg\" data-srcset=\"https://merriam-webster.com/assets/mw/static/images/games/special5/dictionary-devil/204x153@1x.jpg 1x, https://merriam-webster.com/assets/mw/static/images/games/special5/dictionary-devil/204x153@2x.jpg 2x\" src=\"data:image/gif;base64,R0lGODlhAQABAAAAACH5BAEKAAEALAAAAAABAAEAAAICTAEAOw==\"/></span></div> <div class=\"content\"><p class=\"blurb\"><strong>Test Your Knowledge</strong> - and learn some interesting things along the way.</p> <a class=\"to-quiz\" href=\"/word-games/dictionary-devil\">TAKE THE QUIZ</a></div></div></div></p></div></div></div></div></div> <div class=\"clearfix\" id=\"subscribe-unabridged\"><div class=\"header\">Love words? Need even more definitions?</div> <p class=\"teaser\">Subscribe to America's largest dictionary and get thousands more definitions and advanced search—ad free!</p> <a class=\"subscribe-btn\" href=\"https://unabridged.merriam-webster.com/subscriber/register/p1?refc=FOOTER_DEF_MWU\" rel=\"noopener\" target=\"_blank\">Merriam-Webster unabridged</a></div></div> <div class=\"additional-content-area\"><div class=\"additional-items\"><span class=\"items__header\">Words at Play</span> <ul><li><a href=\"/words-at-play/descriptive-vs-prescriptive-defining-lexicography\"><span class=\"lazyload-container ratio-3-2\"><img alt=\"open-dictionary\" class=\"lazyload\" data-caption=\"\" data-credit=\"\" data-dim=\"art-global-footer-recirc\" data-ret-pref=\"open-dictionary-7470-50fc5466bed669d061e993646bd6086b\" data-ret-x=\"1\" data-sizes=\"auto\" data-src=\"https://merriam-webster.com/assets/mw/images/article/art-global-footer-recirc/open-dictionary-7470-50fc5466bed669d061e993646bd6086b@1x.jpg\" data-srcset=\"https://merriam-webster.com/assets/mw/images/article/art-global-footer-recirc/open-dictionary-7470-50fc5466bed669d061e993646bd6086b@1x.jpg 1x, https://merriam-webster.com/assets/mw/images/article/art-global-footer-recirc/open-dictionary-7470-50fc5466bed669d061e993646bd6086b@2x.jpg 2x\" data-type=\"article\" image-id=\"7470\" is_retina=\"true\" pair-id=\"7472\" src=\"data:image/gif;base64,R0lGODlhAQABAAAAACH5BAEKAAEALAAAAAABAAEAAAICTAEAOw==\"/></span></a> <span class=\"item__title\"><a href=\"/words-at-play/descriptive-vs-prescriptive-defining-lexicography\">A Word on 'Descriptive' and 'Prescriptive' Defining</a></span> <p class=\"mell-gr235\"><a href=\"/words-at-play/descriptive-vs-prescriptive-defining-lexicography\">When it comes to words, we're descriptive. </a> <li><a href=\"/words-at-play/the-words-of-the-week-may-08-2020\"><span class=\"lazyload-container ratio-3-2\"><img alt=\"yellow-flowers-on-blue-background\" class=\"lazyload\" data-caption=\"\" data-credit=\"\" data-dim=\"art-global-footer-recirc\" data-ret-pref=\"yellow-flowers-on-blue-background-7469-45a7bf5263dbfa0c7ed906eec58296f3\" data-ret-x=\"1\" data-sizes=\"auto\" data-src=\"https://merriam-webster.com/assets/mw/images/article/art-global-footer-recirc/yellow-flowers-on-blue-background-7469-45a7bf5263dbfa0c7ed906eec58296f3@1x.jpg\" data-srcset=\"https://merriam-webster.com/assets/mw/images/article/art-global-footer-recirc/yellow-flowers-on-blue-background-7469-45a7bf5263dbfa0c7ed906eec58296f3@1x.jpg 1x, https://merriam-webster.com/assets/mw/images/article/art-global-footer-recirc/yellow-flowers-on-blue-background-7469-45a7bf5263dbfa0c7ed906eec58296f3@2x.jpg 2x\" data-type=\"article\" image-id=\"7469\" is_retina=\"true\" pair-id=\"7471\" src=\"data:image/gif;base64,R0lGODlhAQABAAAAACH5BAEKAAEALAAAAAABAAEAAAICTAEAOw==\"/></span></a> <span class=\"item__title\"><a href=\"/words-at-play/the-words-of-the-week-may-08-2020\">The Words of the Week - 5/8/20</a></span> <p class=\"mell-gr235\"><a href=\"/words-at-play/the-words-of-the-week-may-08-2020\">Words from the week of 5/8/2020</a> <li><a href=\"/words-at-play/one-word-oxymorons\"><span class=\"lazyload-container ratio-3-2\"><img alt=\"bittersweet-chocolate\" class=\"lazyload\" data-caption=\"\" data-credit=\"\" data-dim=\"gal-global-footer-recirc\" data-ret-pref=\"bittersweet-chocolate-7461-cedaa387378fb52820a4655a8f0f4f87\" data-ret-x=\"1\" data-sizes=\"auto\" data-src=\"https://merriam-webster.com/assets/mw/images/gallery/gal-global-footer-recirc/bittersweet-chocolate-7461-cedaa387378fb52820a4655a8f0f4f87@1x.jpg\" data-srcset=\"https://merriam-webster.com/assets/mw/images/gallery/gal-global-footer-recirc/bittersweet-chocolate-7461-cedaa387378fb52820a4655a8f0f4f87@1x.jpg 1x, https://merriam-webster.com/assets/mw/images/gallery/gal-global-footer-recirc/bittersweet-chocolate-7461-cedaa387378fb52820a4655a8f0f4f87@2x.jpg 2x\" data-type=\"gallery\" image-id=\"7461\" is_retina=\"true\" pair-id=\"7463\" src=\"data:image/gif;base64,R0lGODlhAQABAAAAACH5BAEKAAEALAAAAAABAAEAAAICTAEAOw==\"/></span></a> <span class=\"item__title\"><a href=\"/words-at-play/one-word-oxymorons\">One-Word Oxymorons: Bittersweet, Spendthrift, and More</a></span> <p class=\"mell-gr235\"><a href=\"/words-at-play/one-word-oxymorons\">When a single word contains two conflicting ideas.</a> <li><a href=\"/words-at-play/mano-a-mano-meaning\"><span class=\"lazyload-container ratio-3-2\"><img alt=\"cartoon-robots-boxing\" class=\"lazyload\" data-caption=\"\" data-credit=\"\" data-dim=\"art-global-footer-recirc\" data-ret-pref=\"cartoon-robots-boxing-7458-30312c9e91b13d8e88e03d86c70b6630\" data-ret-x=\"1\" data-sizes=\"auto\" data-src=\"https://merriam-webster.com/assets/mw/images/article/art-global-footer-recirc/cartoon-robots-boxing-7458-30312c9e91b13d8e88e03d86c70b6630@1x.jpg\" data-srcset=\"https://merriam-webster.com/assets/mw/images/article/art-global-footer-recirc/cartoon-robots-boxing-7458-30312c9e91b13d8e88e03d86c70b6630@1x.jpg 1x, https://merriam-webster.com/assets/mw/images/article/art-global-footer-recirc/cartoon-robots-boxing-7458-30312c9e91b13d8e88e03d86c70b6630@2x.jpg 2x\" data-type=\"article\" image-id=\"7458\" is_retina=\"true\" pair-id=\"7460\" src=\"data:image/gif;base64,R0lGODlhAQABAAAAACH5BAEKAAEALAAAAAABAAEAAAICTAEAOw==\"/></span></a> <span class=\"item__title\"><a href=\"/words-at-play/mano-a-mano-meaning\">'Mano a Mano': A Hands-On Approach</a></span> <p class=\"mell-gr235\"><a href=\"/words-at-play/mano-a-mano-meaning\">Notes on a confusing borrowing</a></p></li></p></li></p></li></p></li></ul></div> <div class=\"additional-items\"><span class=\"items__header\">Ask the Editors</span> <ul><li><a href=\"/video/how-to-spell-definitely\"><span class=\"lazyload-container ratio-3-2\"><img alt=\"serenity-carr-definitely-image\" class=\"lazyload\" data-caption=\"\" data-credit=\"\" data-dim=\"vid-global-footer-recirc\" data-ret-pref=\"serenity-carr-definitely-image-7386-58c32cb72643032ee627341e2c9a29fe\" data-ret-x=\"1\" data-sizes=\"auto\" data-src=\"https://merriam-webster.com/assets/mw/images/video/vid-global-footer-recirc/serenity-carr-definitely-image-7386-58c32cb72643032ee627341e2c9a29fe@1x.jpg\" data-srcset=\"https://merriam-webster.com/assets/mw/images/video/vid-global-footer-recirc/serenity-carr-definitely-image-7386-58c32cb72643032ee627341e2c9a29fe@1x.jpg 1x, https://merriam-webster.com/assets/mw/images/video/vid-global-footer-recirc/serenity-carr-definitely-image-7386-58c32cb72643032ee627341e2c9a29fe@2x.jpg 2x\" data-type=\"video\" image-id=\"7386\" is_retina=\"true\" pair-id=\"7388\" src=\"data:image/gif;base64,R0lGODlhAQABAAAAACH5BAEKAAEALAAAAAABAAEAAAICTAEAOw==\"/></span></a> <span class=\"item__title\"><a href=\"/video/how-to-spell-definitely\">How to Remember the Spelling of 'Definitely'</a></span> <p class=\"mell-gr235\"><a href=\"/video/how-to-spell-definitely\">A definitive answer.</a> <li><a href=\"/video/why-is-there-a-c-in-indict\"><span class=\"lazyload-container ratio-3-2\"><img alt=\"peter-sokolowski-indict-graphic\" class=\"lazyload\" data-caption=\"\" data-credit=\"\" data-dim=\"vid-global-footer-recirc\" data-ret-pref=\"peter-sokolowski-indict-graphic-7371-33e42b2207a8be37bfb5da7471e36111\" data-ret-x=\"1\" data-sizes=\"auto\" data-src=\"https://merriam-webster.com/assets/mw/images/video/vid-global-footer-recirc/peter-sokolowski-indict-graphic-7371-33e42b2207a8be37bfb5da7471e36111@1x.jpg\" data-srcset=\"https://merriam-webster.com/assets/mw/images/video/vid-global-footer-recirc/peter-sokolowski-indict-graphic-7371-33e42b2207a8be37bfb5da7471e36111@1x.jpg 1x, https://merriam-webster.com/assets/mw/images/video/vid-global-footer-recirc/peter-sokolowski-indict-graphic-7371-33e42b2207a8be37bfb5da7471e36111@2x.jpg 2x\" data-type=\"video\" image-id=\"7371\" is_retina=\"true\" pair-id=\"7373\" src=\"data:image/gif;base64,R0lGODlhAQABAAAAACH5BAEKAAEALAAAAAABAAEAAAICTAEAOw==\"/></span></a> <span class=\"item__title\"><a href=\"/video/why-is-there-a-c-in-indict\">Video: Why Is There a 'C' in 'Indict'?</a></span> <p class=\"mell-gr235\"><a href=\"/video/why-is-there-a-c-in-indict\">And who put it there, anyway?</a> <li><a href=\"/video/literally\"><span class=\"lazyload-container ratio-3-2\"><img alt=\"video literally\" class=\"lazyload\" data-caption=\"\" data-credit=\"\" data-dim=\"vid-global-footer-recirc\" data-ret-pref=\"video-literally-1143\" data-ret-x=\"1\" data-sizes=\"auto\" data-src=\"https://merriam-webster.com/assets/mw/images/video/vid-global-footer-recirc/video-literally-1143@1x.jpg\" data-srcset=\"https://merriam-webster.com/assets/mw/images/video/vid-global-footer-recirc/video-literally-1143@1x.jpg 1x, https://merriam-webster.com/assets/mw/images/video/vid-global-footer-recirc/video-literally-1143@2x.jpg 2x\" data-type=\"video\" image-id=\"1143\" is_retina=\"true\" pair-id=\"1145\" src=\"data:image/gif;base64,R0lGODlhAQABAAAAACH5BAEKAAEALAAAAAABAAEAAAICTAEAOw==\"/></span></a> <span class=\"item__title\"><a href=\"/video/literally\">Literally</a></span> <p class=\"mell-gr235\"><a href=\"/video/literally\">How to use a word that (literally) drives some people nuts.</a> <li><a href=\"/video/the-awkward-case-of-his-or-her\"><span class=\"lazyload-container ratio-3-2\"><img alt=\"video his or her\" class=\"lazyload\" data-caption=\"\" data-credit=\"\" data-dim=\"vid-global-footer-recirc\" data-ret-pref=\"video-his-or-her-1148\" data-ret-x=\"1\" data-sizes=\"auto\" data-src=\"https://merriam-webster.com/assets/mw/images/video/vid-global-footer-recirc/video-his-or-her-1148@1x.jpg\" data-srcset=\"https://merriam-webster.com/assets/mw/images/video/vid-global-footer-recirc/video-his-or-her-1148@1x.jpg 1x, https://merriam-webster.com/assets/mw/images/video/vid-global-footer-recirc/video-his-or-her-1148@2x.jpg 2x\" data-type=\"video\" image-id=\"1148\" is_retina=\"true\" pair-id=\"1150\" src=\"data:image/gif;base64,R0lGODlhAQABAAAAACH5BAEKAAEALAAAAAABAAEAAAICTAEAOw==\"/></span></a> <span class=\"item__title\"><a href=\"/video/the-awkward-case-of-his-or-her\">Is Singular 'They' a Better Choice?</a></span> <p class=\"mell-gr235\"><a href=\"/video/the-awkward-case-of-his-or-her\">The awkward case of 'his or her'</a></p></li></p></li></p></li></p></li></ul></div> <div class=\"additional-items\"><span class=\"items__header\">Word Games</span> <ul><li><a href=\"/word-games/name-more-food\"><span class=\"lazyload-container ratio-3-2\"><img alt=\"name more food\" class=\"lazyload\" data-caption=\"\" data-credit=\"\" data-dim=\"quiz-global-footer-recirc\" data-ret-pref=\"name-more-food-2559-6a44b579070df511f5e499a5a112678b\" data-ret-x=\"1\" data-sizes=\"auto\" data-src=\"https://merriam-webster.com/assets/mw/images/quiz/quiz-global-footer-recirc/name-more-food-2559-6a44b579070df511f5e499a5a112678b@1x.jpg\" data-srcset=\"https://merriam-webster.com/assets/mw/images/quiz/quiz-global-footer-recirc/name-more-food-2559-6a44b579070df511f5e499a5a112678b@1x.jpg 1x, https://merriam-webster.com/assets/mw/images/quiz/quiz-global-footer-recirc/name-more-food-2559-6a44b579070df511f5e499a5a112678b@2x.jpg 2x\" data-type=\"quiz\" image-id=\"2559\" is_retina=\"true\" pair-id=\"2562\" src=\"data:image/gif;base64,R0lGODlhAQABAAAAACH5BAEKAAEALAAAAAABAAEAAAICTAEAOw==\"/></span></a> <span class=\"item__title\"><a href=\"/word-games/name-more-food\">Name More Food!</a></span> <p class=\"mell-gr235\"><a href=\"/word-games/name-more-food\">Test your knowledge of food vocabulary!</a></p> <a class=\"quiz-link\" href=\"/word-games/name-more-food\">Take the quiz</a> <li><a href=\"/word-games/april-2020-wotd-quiz\"><span class=\"lazyload-container ratio-3-2\"><img alt=\"ludwig richter spring has arrived\" class=\"lazyload\" data-caption=\"\" data-credit=\"Ludwig Richter (German, 1803 - 1884) Spring Has Arrived, 1870, Watercolor, graphite, gouache and touches of red chalk 20.4 x 16.7 cm (8 1/16 x 6 9/16 in.) The J. Paul Getty Museum, Los Angeles\" data-dim=\"quiz-global-footer-recirc\" data-ret-pref=\"ludwig-richter-spring-has-arrived-3614-04105e24fdadc54de66b929bdb90b96a\" data-ret-x=\"1\" data-sizes=\"auto\" data-src=\"https://merriam-webster.com/assets/mw/images/quiz/quiz-global-footer-recirc/ludwig-richter-spring-has-arrived-3614-04105e24fdadc54de66b929bdb90b96a@1x.jpg\" data-srcset=\"https://merriam-webster.com/assets/mw/images/quiz/quiz-global-footer-recirc/ludwig-richter-spring-has-arrived-3614-04105e24fdadc54de66b929bdb90b96a@1x.jpg 1x, https://merriam-webster.com/assets/mw/images/quiz/quiz-global-footer-recirc/ludwig-richter-spring-has-arrived-3614-04105e24fdadc54de66b929bdb90b96a@2x.jpg 2x\" data-type=\"quiz\" image-id=\"3614\" is_retina=\"true\" pair-id=\"3617\" src=\"data:image/gif;base64,R0lGODlhAQABAAAAACH5BAEKAAEALAAAAAABAAEAAAICTAEAOw==\"/></span></a> <span class=\"item__title\"><a href=\"/word-games/april-2020-wotd-quiz\">April 2020 Words of the Day Quiz</a></span> <p class=\"mell-gr235\"><a href=\"/word-games/april-2020-wotd-quiz\">Reminding you that time is, indeed, passing.</a></p> <a class=\"quiz-link\" href=\"/word-games/april-2020-wotd-quiz\">Take the quiz</a> <li><a href=\"/word-games/spell-it\"><span class=\"lazyload-container ratio-3-2\"><img alt=\"Spell It\" class=\"lazyload\" data-dim=\"261x174\" data-sizes=\"auto\" data-src=\"https://merriam-webster.com/assets/mw/static/images/old-quizzes/spell-it/261x174@1x.jpg\" data-srcset=\"https://merriam-webster.com/assets/mw/static/images/old-quizzes/spell-it/261x174@1x.jpg 1x, https://merriam-webster.com/assets/mw/static/images/old-quizzes/spell-it/261x174@2x.jpg 2x\" src=\"data:image/gif;base64,R0lGODlhAQABAAAAACH5BAEKAAEALAAAAAABAAEAAAICTAEAOw==\"/></span></a> <span class=\"item__title\"><a href=\"/word-games/spell-it\">Spell It</a></span> <p class=\"mell-gr235\"><a href=\"/word-games/spell-it\">Can you spell these 10 commonly misspelled words?</a></p> <a class=\"quiz-link\" href=\"/word-games/spell-it\">Take the quiz</a> <li><a href=\"/word-games/dictionary-devil\"><span class=\"lazyload-container ratio-3-2\"><img alt=\"Dictionary Devil\" class=\"lazyload\" data-dim=\"261x174\" data-sizes=\"auto\" data-src=\"https://merriam-webster.com/assets/mw/static/images/games/special5/dictionary-devil/261x174@1x.jpg\" data-srcset=\"https://merriam-webster.com/assets/mw/static/images/games/special5/dictionary-devil/261x174@1x.jpg 1x, https://merriam-webster.com/assets/mw/static/images/games/special5/dictionary-devil/261x174@2x.jpg 2x\" src=\"data:image/gif;base64,R0lGODlhAQABAAAAACH5BAEKAAEALAAAAAABAAEAAAICTAEAOw==\"/></span></a> <span class=\"item__title\"><a href=\"/word-games/dictionary-devil\">Dictionary Devil</a></span> <p class=\"mell-gr235\"><a href=\"/word-games/dictionary-devil\">The dictionary has been scrambled—can you put it back together?</a></p> <a class=\"quiz-link\" href=\"/word-games/dictionary-devil\">Play the game</a></li></li></li></li></ul></div></div> <div class=\"border-box mobile-fixed-ad d-lg-none\"><div class=\"abl abl-m320-t728-d728\"><div id=\"mw-ad-slot-mobile-fixed-ad\"></div></div></div> <script>window.mwdata.firstHwFound=\"hub\";window.mwdata.time=\"1589254939\";window.mwdata.rp=encodeURIComponent(\"dictionary\");window.mwdata.usp=encodeURIComponent(\"hub\");</script> <footer class=\"global-footer\"><div class=\"footer-mast clearfix\"><div class=\"mw-logo-section lazyload\"><a class=\"footer-logo\" href=\"/\">Merriam Webster</a></div> <div class=\"footer-mast-content clearfix\"><div class=\"footer-subscribe-block\"><div class=\"footer-subscribe-msg\"><p>Learn a new word every day. Delivered to your inbox!</p></div> <form class=\"footer-subscribe js-wod-subscribe-frm\" data-medium=\"footer\"><input aria-label=\"Sign up for Merriam-Webster's Word of the Day newsletter\" class=\"footer-subscribe-field\" name=\"email\" placeholder=\"Your email address\" type=\"text\"/> <input aria-label=\"Subscribe\" class=\"footer-subscribe-button\" name=\"submit\" type=\"submit\" value=\"SUBSCRIBE\"/> <input class=\"footer-subscribe-button hidden arrow\" name=\"submit\" type=\"submit\" value=\"&gt;\"/></form></div> <div class=\"footer-dictionaries\"><p>OTHER MERRIAM-WEBSTER DICTIONARIES <div class=\"other-dictionaries\"><ul><li><a href=\"http://www.spanishcentral.com/\">SPANISH CENTRAL</a> <li><a href=\"http://learnersdictionary.com/\">LEARNER'S ESL DICTIONARY</a> <li><a href=\"http://www.wordcentral.com/\">WORDCENTRAL FOR KIDS</a> <li><a href=\"http://www.visualdictionaryonline.com/\">VISUAL DICTIONARY</a></li></li></li></li></ul> <ul><li><a href=\"http://scrabble.merriam.com/\">SCRABBLE<sup>®</sup> WORD FINDER</a> <li><a href=\"http://unabridged.merriam-webster.com/\">MERRIAM-WEBSTER'S UNABRIDGED DICTIONARY</a> <li><a href=\"http://arabic.britannicaenglish.com/en\">BRITANNICA ENGLISH - ARABIC TRANSLATION</a> <li><a href=\"http://www.nglish.com/spanish/en/\">NGLISH - SPANISH-ENGLISH TRANSLATION</a></li></li></li></li></ul></div></p></div> <div class=\"follow-us lazyload\"><p>FOLLOW US <div class=\"follow-links\"><ul><li><a class=\"social-link social-fb\" href=\"https://www.facebook.com/merriamwebster\" rel=\"noopener\" target=\"_blank\">Facebook</a> <li><a class=\"social-link social-tw\" href=\"https://twitter.com/merriamwebster\" rel=\"noopener\" target=\"_blank\">Twitter</a> <li><a class=\"social-link social-play\" href=\"https://www.youtube.com/user/MerriamWebsterOnline\" rel=\"noopener\" target=\"_blank\">YouTube</a> <li><a class=\"social-link social-ig\" href=\"https://www.instagram.com/merriamwebster/\" rel=\"noopener\" target=\"_blank\">Instagram</a></li></li></li></li></ul></div></p></div></div></div> <div class=\"footer-foot clearfix footer-oa\"><div class=\"footer-foot-content clearfix\"><ul class=\"footer-menu browse-dictionary\"><li><a href=\"/browse/dictionary/a\">Browse the Dictionary:</a> <li><a href=\"/browse/dictionary/a\">a</a> <li><a href=\"/browse/dictionary/b\">b</a> <li><a href=\"/browse/dictionary/c\">c</a> <li><a href=\"/browse/dictionary/d\">d</a> <li><a href=\"/browse/dictionary/e\">e</a> <li><a href=\"/browse/dictionary/f\">f</a> <li><a href=\"/browse/dictionary/g\">g</a> <li><a href=\"/browse/dictionary/h\">h</a> <li><a href=\"/browse/dictionary/i\">i</a> <li><a href=\"/browse/dictionary/j\">j</a> <li><a href=\"/browse/dictionary/k\">k</a> <li><a href=\"/browse/dictionary/l\">l</a> <li><a href=\"/browse/dictionary/m\">m</a> <li><a href=\"/browse/dictionary/n\">n</a> <li><a href=\"/browse/dictionary/o\">o</a> <li><a href=\"/browse/dictionary/p\">p</a> <li><a href=\"/browse/dictionary/q\">q</a> <li><a href=\"/browse/dictionary/r\">r</a> <li><a href=\"/browse/dictionary/s\">s</a> <li><a href=\"/browse/dictionary/t\">t</a> <li><a href=\"/browse/dictionary/u\">u</a> <li><a href=\"/browse/dictionary/v\">v</a> <li><a href=\"/browse/dictionary/w\">w</a> <li><a href=\"/browse/dictionary/x\">x</a> <li><a href=\"/browse/dictionary/y\">y</a> <li><a href=\"/browse/dictionary/z\">z</a> <li><a href=\"/browse/dictionary/0\">0-9</a></li></li></li></li></li></li></li></li></li></li></li></li></li></li></li></li></li></li></li></li></li></li></li></li></li></li></li></li></ul> <ul class=\"footer-menu\"><li><a href=\"/\">Home <span class=\"rborder\"></span></a> <li><a href=\"/help\">Help <span class=\"rborder\"></span></a> <li><a href=\"/apps\">Apps <span class=\"rborder\"></span></a> <li><a href=\"/about-us\">About Us <span class=\"rborder\"></span></a> <li><a href=\"/shop-dictionaries\">Shop <span class=\"rborder\"></span></a> <li><a href=\"/advertising\">Advertising Info <span class=\"rborder\"></span></a> <li><a href=\"https://www.dictionaryapi.com/\" rel=\"noopener\" target=\"_blank\">Dictionary API <span class=\"rborder\"></span></a> <li><a href=\"/contact-us\">Contact Us <span class=\"rborder\"></span></a> <li><a href=\"https://unabridged.merriam-webster.com/subscriber/register/p1?HDR_GLOBAL_JOINMWU\" rel=\"noopener\" target=\"_blank\">Join MWU <span class=\"rborder\"></span></a> <li><a href=\"/video\">Video <span class=\"rborder\"></span></a> <li><a href=\"/words-at-play/word-of-the-year\">Word of the Year <span class=\"rborder\"></span></a> <li><a href=\"/puku/about\">Puku <span class=\"rborder\"></span></a> <li><a href=\"/vocabulary/see-all\">Vocabulary Resources <span class=\"rborder\"></span></a> <li><a href=\"/legal\">Law Dictionary <span class=\"rborder\"></span></a> <li><a href=\"/medical\">Medical Dictionary <span class=\"rborder\"></span></a> <li><a href=\"/privacy-policy\">Privacy Policy <span class=\"rborder\"></span></a> <li><a href=\"/terms-of-use\">Terms of Use <span class=\"rborder\"></span></a> <li class=\"last\"><a href=\"#\" id=\"doNotSell\">Do Not Sell My Info</a></li></li></li></li></li></li></li></li></li></li></li></li></li></li></li></li></li></li></ul> <ul class=\"footer-menu\"><li><a href=\"/browse/thesaurus/a\">Browse the Thesaurus <span class=\"rborder\"></span></a> <li><a href=\"/browse/medical/a\">Browse the Medical Dictionary<span class=\"rborder\"></span></a> <li><a href=\"/browse/legal/a\">Browse the Legal Dictionary<span class=\"rborder\"></span></a> <li class=\"last\"><a href=\"http://www.spanishcentral.com/browse/a\" rel=\"noopener\" target=\"_blank\">Browse the Spanish-English Dictionary</a></li></li></li></li></ul> <p class=\"copyright\">© 2020 Merriam-Webster, Incorporated</p></div></div></footer></div></div> <div class=\"recirc-card\" id=\"recirc-bar-footer\"><div class=\"recirc-close\"><span class=\"iconx\"></span></div> <a class=\"recirc-item\" href=\"/words-at-play/descriptive-vs-prescriptive-defining-lexicography\"><div class=\"recirc-header\">Learn More from M-W <span class=\"imgarrow\"></span></div> <div class=\"recirc-content\"><div class=\"recirc-img\"><span class=\"lazyload-container ratio-3-2\"><img alt=\"open-dictionary\" class=\"lazyload\" data-caption=\"\" data-credit=\"\" data-dim=\"art-global-footer-recirc\" data-ret-pref=\"open-dictionary-7470-50fc5466bed669d061e993646bd6086b\" data-ret-x=\"1\" data-sizes=\"auto\" data-src=\"https://merriam-webster.com/assets/mw/images/article/art-global-footer-recirc/open-dictionary-7470-50fc5466bed669d061e993646bd6086b@1x.jpg\" data-srcset=\"https://merriam-webster.com/assets/mw/images/article/art-global-footer-recirc/open-dictionary-7470-50fc5466bed669d061e993646bd6086b@1x.jpg 1x, https://merriam-webster.com/assets/mw/images/article/art-global-footer-recirc/open-dictionary-7470-50fc5466bed669d061e993646bd6086b@2x.jpg 2x\" data-type=\"article\" image-id=\"7470\" is_retina=\"true\" pair-id=\"7472\" src=\"data:image/gif;base64,R0lGODlhAQABAAAAACH5BAEKAAEALAAAAAABAAEAAAICTAEAOw==\"/></span></div> <h5 class=\"recirc-title\">A Word on 'Descriptive' and 'Prescriptive' Defining</h5></div></a> <a class=\"recirc-item\" href=\"/word-games/name-more-food\"><div class=\"recirc-header\">Learn More from M-W <span class=\"imgarrow\"></span></div> <div class=\"recirc-content\"><div class=\"recirc-img\"><span class=\"lazyload-container ratio-3-2\"><img alt=\"name more food\" class=\"lazyload\" data-caption=\"\" data-credit=\"\" data-dim=\"quiz-global-footer-recirc\" data-ret-pref=\"name-more-food-2559-6a44b579070df511f5e499a5a112678b\" data-ret-x=\"1\" data-sizes=\"auto\" data-src=\"https://merriam-webster.com/assets/mw/images/quiz/quiz-global-footer-recirc/name-more-food-2559-6a44b579070df511f5e499a5a112678b@1x.jpg\" data-srcset=\"https://merriam-webster.com/assets/mw/images/quiz/quiz-global-footer-recirc/name-more-food-2559-6a44b579070df511f5e499a5a112678b@1x.jpg 1x, https://merriam-webster.com/assets/mw/images/quiz/quiz-global-footer-recirc/name-more-food-2559-6a44b579070df511f5e499a5a112678b@2x.jpg 2x\" data-type=\"quiz\" image-id=\"2559\" is_retina=\"true\" pair-id=\"2562\" src=\"data:image/gif;base64,R0lGODlhAQABAAAAACH5BAEKAAEALAAAAAABAAEAAAICTAEAOw==\"/></span></div> <h5 class=\"recirc-title\">Name More Food!</h5></div></a> <a class=\"recirc-item\" href=\"https://www.merriam-webster.com/puku/about\"><div class=\"recirc-header\">Learn More from M-W <span class=\"imgarrow\"></span></div> <div class=\"recirc-content\"><div class=\"recirc-img\"><span class=\"lazyload-container ratio-3-2\"><img alt=\"alt-5e8c995877f72\" class=\"lazyload\" data-caption=\"\" data-credit=\"\" data-dim=\"art-global-footer-recirc\" data-ret-pref=\"alt-5e8c995877f72-7368-7fa0b91503d0e0d86aae0ec2ba1ffd6d\" data-ret-x=\"1\" data-sizes=\"auto\" data-src=\"https://merriam-webster.com/assets/mw/images/article/art-global-footer-recirc/alt-5e8c995877f72-7368-7fa0b91503d0e0d86aae0ec2ba1ffd6d@1x.jpg\" data-srcset=\"https://merriam-webster.com/assets/mw/images/article/art-global-footer-recirc/alt-5e8c995877f72-7368-7fa0b91503d0e0d86aae0ec2ba1ffd6d@1x.jpg 1x, https://merriam-webster.com/assets/mw/images/article/art-global-footer-recirc/alt-5e8c995877f72-7368-7fa0b91503d0e0d86aae0ec2ba1ffd6d@2x.jpg 2x\" data-type=\"article\" image-id=\"7368\" is_retina=\"true\" pair-id=\"7370\" src=\"data:image/gif;base64,R0lGODlhAQABAAAAACH5BAEKAAEALAAAAAABAAEAAAICTAEAOw==\"/></span></div> <h5 class=\"recirc-title\">Help Your Kids Build Their Vocabulary At Home</h5></div></a> <a class=\"recirc-item\" href=\"/words-at-play/epidemic-vs-pandemic-difference\"><div class=\"recirc-header\">Learn More from M-W <span class=\"imgarrow\"></span></div> <div class=\"recirc-content\"><div class=\"recirc-img\"><span class=\"lazyload-container ratio-3-2\"><img alt=\"washing-hands\" class=\"lazyload\" data-caption=\"\" data-credit=\"\" data-dim=\"art-global-footer-recirc\" data-ret-pref=\"washing-hands-7282-3b0b068f273df872c8fa5ce15d08ae72\" data-ret-x=\"1\" data-sizes=\"auto\" data-src=\"https://merriam-webster.com/assets/mw/images/article/art-global-footer-recirc/washing-hands-7282-3b0b068f273df872c8fa5ce15d08ae72@1x.jpg\" data-srcset=\"https://merriam-webster.com/assets/mw/images/article/art-global-footer-recirc/washing-hands-7282-3b0b068f273df872c8fa5ce15d08ae72@1x.jpg 1x, https://merriam-webster.com/assets/mw/images/article/art-global-footer-recirc/washing-hands-7282-3b0b068f273df872c8fa5ce15d08ae72@2x.jpg 2x\" data-type=\"article\" image-id=\"7282\" is_retina=\"true\" pair-id=\"7284\" src=\"data:image/gif;base64,R0lGODlhAQABAAAAACH5BAEKAAEALAAAAAABAAEAAAICTAEAOw==\"/></span></div> <h5 class=\"recirc-title\">'Pandemic' vs 'Epidemic'</h5></div></a> <a class=\"recirc-item\" href=\"/video/how-to-spell-definitely\"><div class=\"recirc-header\">Learn More from M-W <span class=\"imgarrow\"></span></div> <div class=\"recirc-content\"><div class=\"recirc-img\"><span class=\"lazyload-container ratio-3-2\"><img alt=\"serenity-carr-definitely-image\" class=\"lazyload\" data-caption=\"\" data-credit=\"\" data-dim=\"vid-global-footer-recirc\" data-ret-pref=\"serenity-carr-definitely-image-7386-58c32cb72643032ee627341e2c9a29fe\" data-ret-x=\"1\" data-sizes=\"auto\" data-src=\"https://merriam-webster.com/assets/mw/images/video/vid-global-footer-recirc/serenity-carr-definitely-image-7386-58c32cb72643032ee627341e2c9a29fe@1x.jpg\" data-srcset=\"https://merriam-webster.com/assets/mw/images/video/vid-global-footer-recirc/serenity-carr-definitely-image-7386-58c32cb72643032ee627341e2c9a29fe@1x.jpg 1x, https://merriam-webster.com/assets/mw/images/video/vid-global-footer-recirc/serenity-carr-definitely-image-7386-58c32cb72643032ee627341e2c9a29fe@2x.jpg 2x\" data-type=\"video\" image-id=\"7386\" is_retina=\"true\" pair-id=\"7388\" src=\"data:image/gif;base64,R0lGODlhAQABAAAAACH5BAEKAAEALAAAAAABAAEAAAICTAEAOw==\"/></span></div> <h5 class=\"recirc-title\">How to Remember the Spelling of 'Definitely'</h5></div></a></div> <script charset=\"UTF-8\" data-domain-script=\"dd9ed1ba-5fcf-4664-a027-b6a74fa0d2a6\" defer=\"\" src=\"https://cdn.cookielaw.org/scripttemplates/otSDKStub.js\"></script> <script>document.cookie = \"usprivacy=; expires=Thu, 01 Jan 1970 00:00:00 UTC; path=/;\";</script> <script>window.LOADED_BANNER_CSS = true;</script> <link href=\"https://merriam-webster.com/assets/mw/dist/compiled/css/style-onetrust.1800c213ec7fc354aff1.css\" media=\"screen\" rel=\"stylesheet\"/></body></head></html>"
      ]
     },
     "execution_count": 10,
     "metadata": {},
     "output_type": "execute_result"
    }
   ],
   "source": [
    "text"
   ]
  },
  {
   "cell_type": "code",
   "execution_count": 3,
   "metadata": {},
   "outputs": [],
   "source": [
    "word_list = [\"Benevolence\", \"Power\", \"Abundance\",\n",
    "             \"Ethics\", \"Commitment\", \"Enthusiasm\",\n",
    "             \"Calmness\", \"Passion\", \"Independence\",\n",
    "             \"Generosity\", \"Joy\", \"Individuality\", \n",
    "             \"Preparedness\", \"Dedication\", \"Punctuality\", \n",
    "             \"Consistency\", \"Self-Control\", \"Zeal\", \n",
    "             \"Caring\", \"Versatility\", \"Trustworthiness\", \n",
    "             \"Mindfulness\", \"Service\", \"Quality\",\n",
    "             \"Uniqueness\", \"Security\", \"Friendships\",\n",
    "             \"Inclusiveness\", \"Responsiveness\", \"Appreciation\", \n",
    "             \"Intuition\", \"Achievement\", \"Cooperation\", \n",
    "             \"Fun\", \"Empathy\", \"Inspiration\", \"Autonomy\", \n",
    "             \"Resourcefulness\", \" Credibility\", \"Safety\", \n",
    "             \"Individuality\", \"Proactive\", \"Carefulness\", \n",
    "             \"Thoughtfulness\", \"Professionalism\",\n",
    "             \"Teamwork Reliability\", \"Daring\", \"Fairness\",\n",
    "             \"Security\", \"Well-Being\", \"Curiosity\",\n",
    "             \"Understanding Dependability\", \"Perfection\",\n",
    "             \"Challenge\", \"Stability\", \"Expressiveness\",\n",
    "             \"Contribution\", \"Charity\", \"Open-Mindedness\",\n",
    "             \"Popularity\", \"Family\", \"Creativity\",\n",
    "             \"Happiness\", \"Development\", \"Kindness\", \n",
    "             \"Cheerfulness\", \"Balance\", \"Compassion\", \n",
    "             \"Traditionalism\", \"Grace\", \"Peace\", \"Warmth\",\n",
    "             \"Stability\", \"Playfulness\", \"Love\", \"Freedom\",\n",
    "             \" Knowledge\", \"Honesty\", \"Attractiveness\", \n",
    "             \"Resilience\", \"Spirituality Encouragement\", \n",
    "             \"Success\", \"Optimism\", \"Diversity\", \"Advancement\",\n",
    "             \"Wisdom\", \"Advocacy\", \"Performance\", \"Adventure\",\n",
    "             \"Boldness\", \"Leadership\", \"Cleverness\", \n",
    "             \"Learning Recognition\", \"Innovation\",\n",
    "             \"Risk-taking\", \"Healthy\", \"Usefulness\", \n",
    "             \"Acceptance\", \"Responsibility\", \"Decisiveness\",\n",
    "             \"Collaboration\", \"Simplicity\", \"Selflessness\",\n",
    "             \"Humility\", \"Relationships\", \"Recognition\", \n",
    "             \"Ambition\", \"Excellence\", \"Brilliance\", \n",
    "             \"Humor\", \"Community\", \"Growth\", \"Intelligence\",\n",
    "             \"Loyalty\", \"Flexibility\", \"Originality\",\n",
    "             \"Thankfulness\", \"Wealth\", \"meaningful\",\n",
    "             \"productivity\", \"creativity\"]\n",
    "             "
   ]
  },
  {
   "cell_type": "code",
   "execution_count": null,
   "metadata": {},
   "outputs": [],
   "source": [
    "from nltk.corpus import wordnet\n",
    "synonyms = []\n",
    "\n",
    "for syn in wordnet.synsets(\"learning\"):\n",
    "    for l in syn.lemmas():\n",
    "        synonyms.append(l.name())\n",
    "\n",
    "print(set(synonyms))"
   ]
  },
  {
   "cell_type": "code",
   "execution_count": null,
   "metadata": {},
   "outputs": [],
   "source": [
    "def check_word(word):\n",
    "    url=f'https://words.bighugelabs.com/api/2/8fd84ed65f4661af1c474da7f6d526cc/{word}/json'\n",
    "\n",
    "    r = requests.get(url)\n",
    "    result = r.json()\n",
    "\n",
    "    syn=[]\n",
    "\n",
    "    for i in result:\n",
    "        for x in result[i]:\n",
    "            for y in result[i][x]:\n",
    "                syn.append(y)\n",
    "                \n",
    "    return syn\n",
    "\n",
    "check_word('learning')"
   ]
  }
 ],
 "metadata": {
  "kernelspec": {
   "display_name": "Python 3",
   "language": "python",
   "name": "python3"
  },
  "language_info": {
   "codemirror_mode": {
    "name": "ipython",
    "version": 3
   },
   "file_extension": ".py",
   "mimetype": "text/x-python",
   "name": "python",
   "nbconvert_exporter": "python",
   "pygments_lexer": "ipython3",
   "version": "3.7.7"
  }
 },
 "nbformat": 4,
 "nbformat_minor": 1
}
